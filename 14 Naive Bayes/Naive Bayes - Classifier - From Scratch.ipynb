{
 "cells": [
  {
   "cell_type": "code",
   "execution_count": 1,
   "metadata": {},
   "outputs": [],
   "source": [
    "import numpy as np"
   ]
  },
  {
   "cell_type": "code",
   "execution_count": 2,
   "metadata": {},
   "outputs": [],
   "source": [
    "def fit(train_x, train_y):\n",
    "    result = {}\n",
    "    class_values = set(train_y)\n",
    "    result['total_data'] = len(train_y)\n",
    "    for current_class in class_values:\n",
    "        result[current_class] = {}\n",
    "        train_x_class = train_x[train_y == current_class]\n",
    "        train_y_class = train_y[train_y == current_class]\n",
    "        num_features = train_x.shape[1]\n",
    "        result[current_class]['total_count'] = len(train_y_class)\n",
    "        for feature in range(num_features):\n",
    "            result[current_class][feature] = {}\n",
    "            possible_values = set(train_x[:,feature])\n",
    "            for current_value in possible_values:\n",
    "                result[current_class][feature][current_value] = (train_x_class[:, feature] == current_value).sum()\n",
    "    return result"
   ]
  },
  {
   "cell_type": "code",
   "execution_count": 3,
   "metadata": {},
   "outputs": [],
   "source": [
    "def getProb(current_class, data_x, dictionary):\n",
    "    ans = np.log(dictionary[current_class]['total_count']) - np.log(dictionary['total_data'])\n",
    "    for feature in range(len(dictionary[current_class].keys()) - 1):\n",
    "        feature_count = dictionary[current_class][feature][data_x[feature]] + 1\n",
    "        class_count   = dictionary[current_class]['total_count'] + len(dictionary[current_class][feature].keys())\n",
    "        ans += (np.log(feature_count) - np.log(cxxlass_count))\n",
    "    return ans"
   ]
  },
  {
   "cell_type": "code",
   "execution_count": 4,
   "metadata": {},
   "outputs": [],
   "source": [
    "def predictSinglePoint(data_x, dictionary):\n",
    "    best_class = None\n",
    "    best_prob = None\n",
    "    first = True\n",
    "    for current_class in dictionary.keys():\n",
    "        if current_class == 'total_data':\n",
    "            continue\n",
    "        current_prob = getProb(current_class, data_x, dictionary)\n",
    "        if first or current_prob > best_prob:\n",
    "            best_prob = current_prob\n",
    "            best_class = current_class\n",
    "        first = False\n",
    "    return best_class"
   ]
  },
  {
   "cell_type": "code",
   "execution_count": 5,
   "metadata": {},
   "outputs": [],
   "source": [
    "def predict(test_x, dictionary):\n",
    "    pred_y = []\n",
    "    for data_x in test_x:\n",
    "        pred_y.append(predictSinglePoint(data_x, dictionary))\n",
    "    return np.array(pred_y)"
   ]
  },
  {
   "cell_type": "markdown",
   "metadata": {},
   "source": [
    "# Implementing Naive Bayes on Iris Dataset"
   ]
  },
  {
   "cell_type": "code",
   "execution_count": 6,
   "metadata": {},
   "outputs": [],
   "source": [
    "def makeLabelled(column):\n",
    "    second_label = column.mean()\n",
    "    first_label = 0.5 * column.mean()\n",
    "    third_label = 1.5 * column.mean()\n",
    "    \n",
    "    for i in range(0, len(column)):\n",
    "        if(column[i] < first_label):\n",
    "            column[i] = 0\n",
    "        elif(column[i] < second_label):\n",
    "            column[i] = 1\n",
    "        elif(column[i] < third_label):\n",
    "            column[i] = 2\n",
    "        else:\n",
    "            column[i] = 3\n",
    "    return column"
   ]
  },
  {
   "cell_type": "code",
   "execution_count": 7,
   "metadata": {},
   "outputs": [],
   "source": [
    "from sklearn import datasets\n",
    "iris = datasets.load_iris()\n",
    "X = iris.data\n",
    "Y = iris.target"
   ]
  },
  {
   "cell_type": "code",
   "execution_count": 8,
   "metadata": {},
   "outputs": [],
   "source": [
    "for i in range(0, X.shape[1]):\n",
    "    X[:,i] = makeLabelled(X[:,i])"
   ]
  },
  {
   "cell_type": "code",
   "execution_count": 9,
   "metadata": {},
   "outputs": [],
   "source": [
    "from sklearn import model_selection\n",
    "X_train, X_test, Y_train, Y_test = model_selection.train_test_split(X,Y, test_size = 0.25, random_state = 0)"
   ]
  },
  {
   "cell_type": "code",
   "execution_count": 10,
   "metadata": {},
   "outputs": [],
   "source": [
    "dictionary = fit(X_train, Y_train)"
   ]
  },
  {
   "cell_type": "code",
   "execution_count": 11,
   "metadata": {},
   "outputs": [],
   "source": [
    "Y_pred = predict(X_test, dictionary)"
   ]
  },
  {
   "cell_type": "code",
   "execution_count": 12,
   "metadata": {},
   "outputs": [
    {
     "name": "stdout",
     "output_type": "stream",
     "text": [
      "              precision    recall  f1-score   support\n",
      "\n",
      "           0       1.00      1.00      1.00        13\n",
      "           1       0.94      1.00      0.97        16\n",
      "           2       1.00      0.89      0.94         9\n",
      "\n",
      "    accuracy                           0.97        38\n",
      "   macro avg       0.98      0.96      0.97        38\n",
      "weighted avg       0.98      0.97      0.97        38\n",
      "\n",
      "[[13  0  0]\n",
      " [ 0 16  0]\n",
      " [ 0  1  8]]\n"
     ]
    }
   ],
   "source": [
    "from sklearn.metrics import confusion_matrix, classification_report\n",
    "print(classification_report(Y_test, Y_pred))\n",
    "print(confusion_matrix(Y_test, Y_pred))"
   ]
  }
 ],
 "metadata": {
  "kernelspec": {
   "display_name": "Python 3",
   "language": "python",
   "name": "python3"
  },
  "language_info": {
   "codemirror_mode": {
    "name": "ipython",
    "version": 3
   },
   "file_extension": ".py",
   "mimetype": "text/x-python",
   "name": "python",
   "nbconvert_exporter": "python",
   "pygments_lexer": "ipython3",
   "version": "3.7.4"
  }
 },
 "nbformat": 4,
 "nbformat_minor": 2
}
