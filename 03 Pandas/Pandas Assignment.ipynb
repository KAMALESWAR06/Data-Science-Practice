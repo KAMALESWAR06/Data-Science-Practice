{
 "cells": [
  {
   "cell_type": "markdown",
   "metadata": {},
   "source": [
    "### The Most Dangerous city in Jammu and Kashmir and the terrorist group which is most active in that city? Print count of number of attacks in that city as integer value. Note:Ignoring the Unknown Terrorist Group.Here Dangerous related with the number of terrorist attacks."
   ]
  },
  {
   "cell_type": "code",
   "execution_count": 52,
   "metadata": {},
   "outputs": [
    {
     "name": "stdout",
     "output_type": "stream",
     "text": [
      "Srinagar 657 Muslim Separatists\n"
     ]
    }
   ],
   "source": [
    "import pandas as pd\n",
    "df = pd.read_csv(\"../02 NumPy/datasets/terrorismData.csv\", encoding='utf8')\n",
    "df.Killed.fillna(0, inplace = True)\n",
    "df.Wounded.fillna(0, inplace = True)\n",
    "jkdf = df[df.State == \"Jammu and Kashmir\"]\n",
    "city = jkdf[\"City\"].value_counts().index[0]\n",
    "attacks = jkdf[\"City\"].value_counts()[0]\n",
    "city_df = jkdf[jkdf.City == city]\n",
    "group = city_df[\"Group\"].value_counts().index[1]\n",
    "print(city, attacks, group)"
   ]
  },
  {
   "cell_type": "markdown",
   "metadata": {},
   "source": [
    "### Find out the Country with Highest Number of Terror Attack and in which year the most number of terrorist attack happened in that country ? Print count of terror attacks as integer value."
   ]
  },
  {
   "cell_type": "code",
   "execution_count": 63,
   "metadata": {},
   "outputs": [
    {
     "name": "stdout",
     "output_type": "stream",
     "text": [
      "Iraq 24636 2014\n"
     ]
    }
   ],
   "source": [
    "import pandas as pd\n",
    "df = pd.read_csv(\"../02 NumPy/datasets/terrorismData.csv\", encoding='utf8')\n",
    "country = df[\"Country\"].value_counts().index[0]\n",
    "attacks = df[\"Country\"].value_counts()[0]\n",
    "country_df = df[df.Country == country]\n",
    "year = country_df[\"Year\"].value_counts().index[0]\n",
    "print(country, attacks, year)"
   ]
  },
  {
   "cell_type": "markdown",
   "metadata": {},
   "source": [
    "### Most Deadliest attack in a history of HumanKind? Print count of Killed people as integer value. Note: Here Deadliest attack means, in which the most number of people killed."
   ]
  },
  {
   "cell_type": "code",
   "execution_count": 75,
   "metadata": {},
   "outputs": [
    {
     "name": "stdout",
     "output_type": "stream",
     "text": [
      "1570 Iraq Islamic State of Iraq and the Levant (ISIL)\n"
     ]
    }
   ],
   "source": [
    "import pandas as pd\n",
    "df = pd.read_csv(\"../02 NumPy/datasets/terrorismData.csv\", encoding='utf8')\n",
    "df.Killed.fillna(0, inplace = True)\n",
    "df.Wounded.fillna(0, inplace = True)\n",
    "idx = df[\"Killed\"].idxmax()\n",
    "print(int(df.iloc[idx][\"Killed\"]), df.iloc[idx][\"Country\"], df.iloc[idx][\"Group\"])"
   ]
  },
  {
   "cell_type": "markdown",
   "metadata": {},
   "source": [
    "### There was formation of new government in India on 26 May 2014. So current government's span is from 26th May 2014 to current. Find out two things from this period: 1. Total number of attacks done in this period in India. Find this count as integer. 2. Which Terrorist group was most active in this period in India. Most active means, group which has done maximum number of attacks. "
   ]
  },
  {
   "cell_type": "code",
   "execution_count": 1,
   "metadata": {},
   "outputs": [
    {
     "name": "stdout",
     "output_type": "stream",
     "text": [
      "3336 Maoists\n"
     ]
    }
   ],
   "source": [
    "import pandas as pd\n",
    "df = pd.read_csv(\"../02 NumPy/datasets/terrorismData.csv\", encoding='utf8')\n",
    "df = df[(df[\"Country\"] == \"India\")]\n",
    "df=df[(df['Year'] >=2014)] \n",
    "indexNum1=df[(df['Year']==2014) & (df['Month'] < 5)].index \n",
    "indexNum2=df[(df['Year']==2014) & (df['Month']==5) & (df['Day'] < 26)].index \n",
    "df.drop(indexNum1 , inplace=True) \n",
    "df.drop(indexNum2 , inplace=True) \n",
    "attack=df.shape[0] \n",
    "group=df['Group'].value_counts().index[1] \n",
    "print(attack,group)"
   ]
  },
  {
   "cell_type": "markdown",
   "metadata": {},
   "source": [
    "### Find the frequency of the Casualty in Red Corridor states and in Jammu and Kashmir? Here Frequency is (Total Casualty/Total Number of a year). Print frequency as integer value. Note:Red Corridor state includes Jharkhand, Odisha, Andhra Pradesh, and Chhattisgarh. Here Casualty = Killed + Wounded. Don't fill the nan value present in Killed and Wounded feature."
   ]
  },
  {
   "cell_type": "code",
   "execution_count": 59,
   "metadata": {},
   "outputs": [
    {
     "name": "stdout",
     "output_type": "stream",
     "text": [
      "115 261\n"
     ]
    }
   ],
   "source": [
    "import pandas as pd \n",
    "df_terrorism = pd.read_csv(\"../02 NumPy/datasets/terrorismData.csv\", encoding='utf8')\n",
    "year = 47\n",
    "df_terrorism=df_terrorism[df_terrorism['Country']=='India'] \n",
    "df_terrorism['Casualty']=df_terrorism['Killed']+df_terrorism['Wounded'] \n",
    "Jammu_state=df_terrorism[df_terrorism['State']=='Jammu and Kashmir'] \n",
    "red_state=df_terrorism[(df_terrorism['State']=='Jharkhand')|(df_terrorism['State']=='Odisha') |(df_terrorism['State']=='Andhra Pradesh')|(df_terrorism['State']=='Chhattisgarh')] \n",
    "red_casualty=int(red_state['Casualty'].sum()) \n",
    "Jammu_casualty=int(Jammu_state['Casualty'].sum())\n",
    "print(red_casualty//year,Jammu_casualty//year)"
   ]
  }
 ],
 "metadata": {
  "kernelspec": {
   "display_name": "Python 3",
   "language": "python",
   "name": "python3"
  },
  "language_info": {
   "codemirror_mode": {
    "name": "ipython",
    "version": 3
   },
   "file_extension": ".py",
   "mimetype": "text/x-python",
   "name": "python",
   "nbconvert_exporter": "python",
   "pygments_lexer": "ipython3",
   "version": "3.7.4"
  }
 },
 "nbformat": 4,
 "nbformat_minor": 2
}
