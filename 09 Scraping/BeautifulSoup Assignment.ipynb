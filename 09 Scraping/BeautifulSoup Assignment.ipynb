{
 "cells": [
  {
   "cell_type": "code",
   "execution_count": 19,
   "metadata": {},
   "outputs": [
    {
     "name": "stdout",
     "output_type": "stream",
     "text": [
      "Avengers: Infinity War ; Action, Adventure, Sci-Fi\n",
      "Black Panther ; Action, Adventure, Sci-Fi\n",
      "Deadpool 2 ; Action, Adventure, Comedy\n"
     ]
    }
   ],
   "source": [
    "from bs4 import BeautifulSoup\n",
    "import requests\n",
    "url = 'https://www.imdb.com/search/title?release_date=2018&sort=num_votes,desc&page=1&ref_=adv_nxt'\n",
    "res = requests.get(url)\n",
    "soup = BeautifulSoup(res.text, 'html.parser')\n",
    "movies = soup.find_all(class_ = 'lister-item')[:3]\n",
    "for m in movies:\n",
    "    print(m.find_all('a')[1].string, end = ' ; ')\n",
    "    print(m.find(class_ = 'genre').string.strip())"
   ]
  },
  {
   "cell_type": "code",
   "execution_count": 83,
   "metadata": {},
   "outputs": [
    {
     "name": "stdout",
     "output_type": "stream",
     "text": [
      "Inception\n",
      "Game of Thrones\n",
      "The Dark Knight Rises\n",
      "The Wolf of Wall Street\n",
      "Interstellar\n"
     ]
    }
   ],
   "source": [
    "from bs4 import BeautifulSoup\n",
    "import re\n",
    "import requests\n",
    "for i in range(2010, 2015):\n",
    "    url = 'https://www.imdb.com/search/title?release_date=' + str(i) + '&sort=num_votes,desc&page=1&ref_=adv_nxt'\n",
    "    res = requests.get(url)\n",
    "    soup = BeautifulSoup(res.text, 'html.parser')\n",
    "    movies = soup.find(class_ = 'lister-item')\n",
    "    print(movies.find_all('a')[1].string)"
   ]
  },
  {
   "cell_type": "code",
   "execution_count": 37,
   "metadata": {},
   "outputs": [
    {
     "name": "stdout",
     "output_type": "stream",
     "text": [
      "421 Sharp Objects\n"
     ]
    }
   ],
   "source": [
    "from bs4 import BeautifulSoup\n",
    "import re\n",
    "import requests\n",
    "urls = [\n",
    "    'https://www.imdb.com/search/title/?release_date=2018-01-01,2018-12-31&sort=num_votes,desc&ref_=adv_prv',\n",
    "    'https://www.imdb.com/search/title/?release_date=2018-01-01,2018-12-31&sort=num_votes,desc&start=51&ref_=adv_nxt',\n",
    "    'https://www.imdb.com/search/title/?release_date=2018-01-01,2018-12-31&sort=num_votes,desc&start=101&ref_=adv_nxt',\n",
    "    'https://www.imdb.com/search/title/?release_date=2018-01-01,2018-12-31&sort=num_votes,desc&start=151&ref_=adv_nxt',\n",
    "    'https://www.imdb.com/search/title/?release_date=2018-01-01,2018-12-31&sort=num_votes,desc&start=201&ref_=adv_nxt'\n",
    "]\n",
    "\n",
    "mov = []\n",
    "for url in urls:\n",
    "    res = requests.get(url)\n",
    "    soup = BeautifulSoup(res.text, 'html.parser')\n",
    "    movies = soup.find_all(class_ = 'lister-item')\n",
    "    for m in movies:\n",
    "        runtime = int(m.find(class_ = 'runtime').string[:-4])\n",
    "        details = runtime, m.find_all('a')[1].string\n",
    "        mov.append(details)\n",
    "ans = max(mov)\n",
    "print(ans[1], ans[0])"
   ]
  },
  {
   "cell_type": "code",
   "execution_count": 67,
   "metadata": {},
   "outputs": [
    {
     "name": "stdout",
     "output_type": "stream",
     "text": [
      "Healthcare\n",
      "Automotive\n",
      "Finance and economics\n",
      "Government\n",
      "Video games\n",
      "Military\n",
      "Audit\n",
      "Advertising\n",
      "Art\n"
     ]
    }
   ],
   "source": [
    "from bs4 import BeautifulSoup\n",
    "import requests\n",
    "url = 'https://en.wikipedia.org/wiki/Artificial_intelligence'\n",
    "res = requests.get(url)\n",
    "soup = BeautifulSoup(res.text, 'html.parser')\n",
    "for el in soup.find(class_ = 'tocsection-35').ul.find_all(class_ = 'toctext'):\n",
    "    print(el.string)"
   ]
  },
  {
   "cell_type": "code",
   "execution_count": 76,
   "metadata": {},
   "outputs": [
    {
     "name": "stdout",
     "output_type": "stream",
     "text": [
      "//upload.wikimedia.org/wikipedia/commons/6/69/EM_Clustering_of_Old_Faithful_data.gif\n"
     ]
    }
   ],
   "source": [
    "from bs4 import BeautifulSoup\n",
    "import requests\n",
    "url = 'https://en.wikipedia.org/wiki/Artificial_intelligence'\n",
    "res = requests.get(url)\n",
    "soup = BeautifulSoup(res.text, 'html.parser')\n",
    "images = []\n",
    "for image in soup.find_all('img'):\n",
    "    dimensions = int(image['height']) * int(image['width'])\n",
    "    images.append((dimensions, image['src']))\n",
    "print(max(images)[1])"
   ]
  },
  {
   "cell_type": "code",
   "execution_count": 117,
   "metadata": {},
   "outputs": [
    {
     "name": "stdout",
     "output_type": "stream",
     "text": [
      "“The person, be it gentleman or lady, who has not pleasure in a good novel, must be intolerably stupid.”\n",
      "“A day without sunshine is like, you know, night.”\n",
      "“Anyone who thinks sitting in church can make you a Christian must also think that sitting in a garage can make you a car.”\n",
      "“Beauty is in the eye of the beholder and it may be necessary from time to time to give a stupid or misinformed beholder a black eye.”\n",
      "“All you need is love. But a little chocolate now and then doesn't hurt.”\n",
      "“Remember, we're madly in love, so it's all right to kiss me anytime you feel like it.”\n",
      "“Some people never go crazy. What truly horrible lives they must lead.”\n",
      "“The trouble with having an open mind, of course, is that people will insist on coming along and trying to put things in it.”\n",
      "“Think left and think right and think low and think high. Oh, the thinks you can think up if only you try!”\n",
      "“The reason I talk to myself is because I’m the only one whose answers I accept.”\n",
      "“I am free of all prejudice. I hate everyone equally. ”\n",
      "“A lady's imagination is very rapid; it jumps from admiration to love, from love to matrimony in a moment.”\n"
     ]
    }
   ],
   "source": [
    "from bs4 import BeautifulSoup\n",
    "import requests\n",
    "for i in range(1, 11):\n",
    "    url = 'http://quotes.toscrape.com/page/' + str(i)\n",
    "    res = requests.get(url)\n",
    "    soup = BeautifulSoup(res.text, 'html.parser')\n",
    "    soup.find_all(class_ = 'quote')\n",
    "    for quote in soup.find_all(class_ = 'quote'):\n",
    "        for tags in quote.find(class_ = 'tags').find_all(class_ = 'tag'):\n",
    "            if tags.string == 'humor':\n",
    "                print(quote.span.string)"
   ]
  },
  {
   "cell_type": "code",
   "execution_count": 150,
   "metadata": {},
   "outputs": [
    {
     "name": "stdout",
     "output_type": "stream",
     "text": [
      "['Albert Einstein', 'Alexandre Dumas fils', 'Alfred Tennyson', 'Allen Saunders', 'André Gide', 'Ayn Rand', 'Bob Marley', 'C.S. Lewis', 'Charles Bukowski', 'Charles M. Schulz', 'Douglas Adams', 'Dr. Seuss', 'E.E. Cummings', 'Eleanor Roosevelt', 'Elie Wiesel', 'Ernest Hemingway', 'Friedrich Nietzsche', 'Garrison Keillor', 'George Bernard Shaw', 'George Carlin', 'George Eliot', 'George R.R. Martin', 'Harper Lee', 'Haruki Murakami', 'Helen Keller', 'J.D. Salinger', 'J.K. Rowling', 'J.M. Barrie', 'J.R.R. Tolkien', 'James Baldwin', 'Jane Austen', 'Jim Henson', 'Jimi Hendrix', 'John Lennon', 'Jorge Luis Borges', 'Khaled Hosseini', \"Madeleine L'Engle\", 'Marilyn Monroe', 'Mark Twain', 'Martin Luther King Jr.', 'Mother Teresa', 'Pablo Neruda', 'Ralph Waldo Emerson', 'Stephenie Meyer', 'Steve Martin', 'Suzanne Collins', 'Terry Pratchett', 'Thomas A. Edison', 'W.C. Fields', 'William Nicholson']\n"
     ]
    }
   ],
   "source": [
    "from bs4 import BeautifulSoup\n",
    "import requests\n",
    "s = set()\n",
    "for i in range(1, 11):\n",
    "    url = 'http://quotes.toscrape.com/page/' + str(i)\n",
    "    res = requests.get(url)\n",
    "    soup = BeautifulSoup(res.text, 'html.parser')\n",
    "    for author in soup.find_all(class_ = 'author'):\n",
    "        s.add(author.text)\n",
    "print(sorted(s))"
   ]
  },
  {
   "cell_type": "code",
   "execution_count": 129,
   "metadata": {},
   "outputs": [
    {
     "name": "stdout",
     "output_type": "stream",
     "text": [
      "“The world as we have created it is a process of our thinking. It cannot be changed without changing our thinking.”\n",
      "“There are only two ways to live your life. One is as though nothing is a miracle. The other is as though everything is a miracle.”\n",
      "“Try not to become a man of success. Rather become a man of value.”\n",
      "“If you can't explain it to a six year old, you don't understand it yourself.”\n",
      "“If you want your children to be intelligent, read them fairy tales. If you want them to be more intelligent, read them more fairy tales.”\n",
      "“Logic will get you from A to Z; imagination will get you everywhere.”\n",
      "“Any fool can know. The point is to understand.”\n",
      "“Life is like riding a bicycle. To keep your balance, you must keep moving.”\n",
      "“If I were not a physicist, I would probably be a musician. I often think in music. I live my daydreams in music. I see my life in terms of music.”\n",
      "“Anyone who has never made a mistake has never tried anything new.”\n"
     ]
    }
   ],
   "source": [
    "from bs4 import BeautifulSoup\n",
    "import requests\n",
    "for i in range(1, 11):\n",
    "    url = 'http://quotes.toscrape.com/page/' + str(i)\n",
    "    res = requests.get(url)\n",
    "    soup = BeautifulSoup(res.text, 'html.parser')\n",
    "    soup.find_all(class_ = 'quote')\n",
    "    for quote in soup.find_all(class_ = 'quote'):\n",
    "        if quote.find(class_ = 'author').string == \"Albert Einstein\":\n",
    "            print(quote.span.string)"
   ]
  },
  {
   "cell_type": "code",
   "execution_count": 151,
   "metadata": {},
   "outputs": [
    {
     "name": "stdout",
     "output_type": "stream",
     "text": [
      "{'Albert Einstein': 'March 14, 1879', 'Alexandre Dumas fils': 'July 27, 1824', 'Alfred Tennyson': 'August 06, 1809', 'Allen Saunders': 'April 24, 1899', 'André Gide': 'November 22, 1869', 'Ayn Rand': 'February 02, 1905', 'Bob Marley': 'February 06, 1945', 'C.S. Lewis': 'November 29, 1898', 'Charles Bukowski': 'August 16, 1920', 'Charles M. Schulz': 'November 26, 1922', 'Douglas Adams': 'March 11, 1952', 'Dr. Seuss': 'March 02, 1904', 'E.E. Cummings': 'October 14, 1894', 'Eleanor Roosevelt': 'October 11, 1884', 'Elie Wiesel': 'September 30, 1928', 'Ernest Hemingway': 'July 21, 1899', 'Friedrich Nietzsche': 'October 15, 1844', 'Garrison Keillor': 'August 07, 1942', 'George Bernard Shaw': 'July 26, 1856', 'George Carlin': 'May 12, 1937', 'George Eliot': 'November 22, 1819', 'George R.R. Martin': 'September 20, 1948', 'Harper Lee': 'April 28, 1926', 'Haruki Murakami': 'January 12, 1949', 'Helen Keller': 'June 27, 1880', 'J.D. Salinger': 'January 01, 1919', 'J.K. Rowling': 'July 31, 1965', 'J.M. Barrie': 'May 09, 1860', 'J.R.R. Tolkien': 'January 03, 1892', 'James Baldwin': 'August 02, 1924', 'Jane Austen': 'December 16, 1775', 'Jim Henson': 'September 24, 1936', 'Jimi Hendrix': 'November 27, 1942', 'John Lennon': 'October 09, 1940', 'Jorge Luis Borges': 'August 24, 1899', 'Khaled Hosseini': 'March 04, 1965', \"Madeleine L'Engle\": 'November 29, 1918', 'Marilyn Monroe': 'June 01, 1926', 'Mark Twain': 'November 30, 1835', 'Martin Luther King Jr.': 'January 15, 1929', 'Mother Teresa': 'August 26, 1910', 'Pablo Neruda': 'July 12, 1904', 'Ralph Waldo Emerson': 'May 25, 1803', 'Stephenie Meyer': 'December 24, 1973', 'Steve Martin': 'August 14, 1945', 'Suzanne Collins': 'August 11, 1962', 'Terry Pratchett': 'April 28, 1948', 'Thomas A. Edison': 'February 11, 1847', 'W.C. Fields': 'January 29, 1880', 'William Nicholson': 'January 12, 1948'}\n"
     ]
    }
   ],
   "source": [
    "from bs4 import BeautifulSoup\n",
    "import re\n",
    "import requests\n",
    "authors = ['Albert Einstein', 'Alexandre Dumas fils', 'Alfred Tennyson', 'Allen Saunders', 'André Gide', 'Ayn Rand', 'Bob Marley', 'C.S. Lewis', 'Charles Bukowski', 'Charles M. Schulz', 'Douglas Adams', 'Dr. Seuss', 'E.E. Cummings', 'Eleanor Roosevelt', 'Elie Wiesel', 'Ernest Hemingway', 'Friedrich Nietzsche', 'Garrison Keillor', 'George Bernard Shaw', 'George Carlin', 'George Eliot', 'George R.R. Martin', 'Harper Lee', 'Haruki Murakami', 'Helen Keller', 'J.D. Salinger', 'J.K. Rowling', 'J.M. Barrie', 'J.R.R. Tolkien', 'James Baldwin', 'Jane Austen', 'Jim Henson', 'Jimi Hendrix', 'John Lennon', 'Jorge Luis Borges', 'Khaled Hosseini', \"Madeleine L'Engle\", 'Marilyn Monroe', 'Mark Twain', 'Martin Luther King Jr.', 'Mother Teresa', 'Pablo Neruda', 'Ralph Waldo Emerson', 'Stephenie Meyer', 'Steve Martin', 'Suzanne Collins', 'Terry Pratchett', 'Thomas A. Edison', 'W.C. Fields', 'William Nicholson']\n",
    "author_url = 'http://quotes.toscrape.com/author/'\n",
    "d = {}\n",
    "for author in authors:\n",
    "    if (author == 'André Gide'):\n",
    "        a = 'Andre-Gide'\n",
    "    elif author == \"Madeleine L'Engle\":\n",
    "        a = \"Madeleine-LEngle\"\n",
    "    else:\n",
    "        a = '-'.join(re.findall(r\"[\\w']+\", author))\n",
    "    url = author_url + a\n",
    "    res = requests.get(url)\n",
    "    soup = BeautifulSoup(res.text, 'html.parser')\n",
    "    d[author] = soup.find(class_ = 'author-born-date').string\n",
    "print(d)"
   ]
  }
 ],
 "metadata": {
  "kernelspec": {
   "display_name": "Python 3",
   "language": "python",
   "name": "python3"
  },
  "language_info": {
   "codemirror_mode": {
    "name": "ipython",
    "version": 3
   },
   "file_extension": ".py",
   "mimetype": "text/x-python",
   "name": "python",
   "nbconvert_exporter": "python",
   "pygments_lexer": "ipython3",
   "version": "3.7.4"
  }
 },
 "nbformat": 4,
 "nbformat_minor": 2
}
