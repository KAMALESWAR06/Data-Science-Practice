{
 "cells": [
  {
   "cell_type": "code",
   "execution_count": 1,
   "metadata": {},
   "outputs": [],
   "source": [
    "from selenium import webdriver\n",
    "from selenium.webdriver.support.ui import WebDriverWait\n",
    "from selenium.webdriver.support import expected_conditions as EC\n",
    "from selenium.webdriver.common.by import By\n",
    "from bs4 import BeautifulSoup\n",
    "import time"
   ]
  },
  {
   "cell_type": "code",
   "execution_count": 2,
   "metadata": {},
   "outputs": [],
   "source": [
    "driver = webdriver.Chrome('chromedriver')"
   ]
  },
  {
   "cell_type": "code",
   "execution_count": 3,
   "metadata": {},
   "outputs": [],
   "source": [
    "username = 'iamashhad'\n",
    "password = 'ashhadashu1'"
   ]
  },
  {
   "cell_type": "code",
   "execution_count": 4,
   "metadata": {},
   "outputs": [],
   "source": [
    "def login(username = username, password = password):\n",
    "    driver.get('https://www.instagram.com/accounts/login')\n",
    "    wait = WebDriverWait(driver, 10)\n",
    "    username_field = wait.until(EC.presence_of_element_located((By.XPATH, \"//input[@name='username']\")))\n",
    "    username_field = driver.find_element_by_name('username')\n",
    "    username_field.send_keys(username)\n",
    "    password_field = driver.find_element_by_name('password')\n",
    "    password_field.send_keys(password)\n",
    "    username_field.submit()\n",
    "    cancel_notifications_button = wait.until(EC.presence_of_element_located((By.XPATH, \"//button[text()='Not Now']\")))\n",
    "    cancel_notifications_button.click()"
   ]
  },
  {
   "cell_type": "code",
   "execution_count": 5,
   "metadata": {},
   "outputs": [],
   "source": [
    "def search(s = 'food'):\n",
    "    wait = WebDriverWait(driver, 10)\n",
    "    search_box = wait.until(EC.presence_of_element_located((By.XPATH, '//input[@placeholder = \"Search\"]')))\n",
    "    search_box.send_keys(s)\n",
    "    elements = wait.until(EC.presence_of_all_elements_located((By.XPATH, '//span[@class = \"Ap253\"]')))\n",
    "    for el in elements:\n",
    "        name = el.get_attribute('innerHTML')\n",
    "        if not name.startswith('#'):\n",
    "            print(name)\n",
    "    SearchClear = wait.until(EC.presence_of_element_located((By.XPATH, \"//div[contains(@class, 'coreSpriteSearchClear')]\")))\n",
    "    SearchClear.click()"
   ]
  },
  {
   "cell_type": "code",
   "execution_count": 6,
   "metadata": {},
   "outputs": [],
   "source": [
    "def searchingAndOpening(s = 'sodelhi'):\n",
    "    driver.get('https://www.instagram.com')\n",
    "    wait = WebDriverWait(driver, 10)\n",
    "    search_box = wait.until(EC.presence_of_element_located((By.XPATH, '//input[@placeholder = \"Search\"]')))\n",
    "    search_box.send_keys(s)\n",
    "    element = wait.until(EC.presence_of_element_located((By.XPATH, '//a[contains(@class, \"yCE8d\")]')))\n",
    "    element.click()"
   ]
  },
  {
   "cell_type": "code",
   "execution_count": 7,
   "metadata": {},
   "outputs": [],
   "source": [
    "def follow(s = 'sodelhi'):\n",
    "    searchingAndOpening(s)\n",
    "    wait = WebDriverWait(driver, 10)\n",
    "    element = wait.until(EC.presence_of_element_located((By.XPATH, \"//button[contains(@class, 'yZn4P')]\")))\n",
    "    if 'Following' in element.get_attribute('innerHTML'):\n",
    "        print(\"Already Following\")\n",
    "    else:\n",
    "        element.click()"
   ]
  },
  {
   "cell_type": "code",
   "execution_count": 8,
   "metadata": {},
   "outputs": [],
   "source": [
    "def unfollow(s = 'sodelhi'):\n",
    "    searchingAndOpening(s)\n",
    "    wait = WebDriverWait(driver, 10)\n",
    "    element = wait.until(EC.presence_of_element_located((By.XPATH, \"//button[contains(@class, 'yZn4P')]\")))\n",
    "    if element.get_attribute('innerHTML') == 'Follow':\n",
    "        print(\"Already Unfollowed\")\n",
    "    else:\n",
    "        element.click()\n",
    "        unfollow_btn = wait.until(EC.presence_of_element_located((By.XPATH, \"//button[text()='Unfollow']\")))\n",
    "        unfollow_btn.click()"
   ]
  },
  {
   "cell_type": "code",
   "execution_count": 9,
   "metadata": {},
   "outputs": [],
   "source": [
    "def like(s = 'dilsefoodie'):\n",
    "    searchingAndOpening(s)\n",
    "    wait = WebDriverWait(driver, 10)\n",
    "    wait.until(EC.presence_of_element_located((By.XPATH, \"//button[contains(@class, 'yZn4P')]\")))\n",
    "    for i in range(2):\n",
    "        driver.execute_script(\"window.scrollTo(0, document.body.scrollHeight);\")\n",
    "        time.sleep(1)\n",
    "    elements = wait.until(EC.presence_of_all_elements_located((By.XPATH, \"//div[contains(@class, 'v1Nh3')]\")))\n",
    "    is_liked = True\n",
    "    for i in range(30):\n",
    "        elements[i].click()\n",
    "        like_btn = wait.until(EC.presence_of_element_located((By.XPATH, \"//span[contains(@class, 'fr66n')]\")))\n",
    "        buttons_on_page = wait.until(EC.presence_of_all_elements_located((By.XPATH, \"//button[contains(@class, 'wpO6b')]\")))\n",
    "        if not \"Unlike\" in buttons_on_page[1].get_attribute('innerHTML'):\n",
    "            is_liked = False\n",
    "            buttons_on_page[1].click()\n",
    "            buttons_on_page[-1].click()\n",
    "        else:\n",
    "            buttons_on_page[-1].click()\n",
    "    if is_liked:\n",
    "        print(\"Already liked the top 30 posts\")"
   ]
  },
  {
   "cell_type": "code",
   "execution_count": 10,
   "metadata": {},
   "outputs": [],
   "source": [
    "def unlike(s = 'dilsefoodie'):\n",
    "    searchingAndOpening(s)\n",
    "    wait = WebDriverWait(driver, 10)\n",
    "    wait.until(EC.presence_of_element_located((By.XPATH, \"//button[contains(@class, 'yZn4P')]\")))\n",
    "    for i in range(2):\n",
    "        driver.execute_script(\"window.scrollTo(0, document.body.scrollHeight);\")\n",
    "        time.sleep(1)\n",
    "    elements = wait.until(EC.presence_of_all_elements_located((By.XPATH, \"//div[contains(@class, 'v1Nh3')]\")))\n",
    "    is_unliked = True\n",
    "    for i in range(30):\n",
    "        elements[i].click()\n",
    "        like_btn = wait.until(EC.presence_of_element_located((By.XPATH, \"//span[contains(@class, 'fr66n')]\")))\n",
    "        buttons_on_page = wait.until(EC.presence_of_all_elements_located((By.XPATH, \"//button[contains(@class, 'wpO6b')]\")))\n",
    "        if \"Unlike\" in buttons_on_page[1].get_attribute('innerHTML'):\n",
    "            is_unliked = False\n",
    "            buttons_on_page[1].click()\n",
    "            buttons_on_page[-1].click()\n",
    "        else:\n",
    "            buttons_on_page[-1].click()\n",
    "    if is_unliked:\n",
    "        print(\"Already unliked the top 30 posts\")"
   ]
  },
  {
   "cell_type": "code",
   "execution_count": null,
   "metadata": {},
   "outputs": [],
   "source": []
  },
  {
   "cell_type": "code",
   "execution_count": null,
   "metadata": {},
   "outputs": [],
   "source": []
  },
  {
   "cell_type": "code",
   "execution_count": null,
   "metadata": {},
   "outputs": [],
   "source": []
  },
  {
   "cell_type": "code",
   "execution_count": null,
   "metadata": {},
   "outputs": [],
   "source": []
  },
  {
   "cell_type": "code",
   "execution_count": null,
   "metadata": {},
   "outputs": [],
   "source": []
  },
  {
   "cell_type": "code",
   "execution_count": 18,
   "metadata": {},
   "outputs": [],
   "source": [
    "s = 'coding.ninjas'\n",
    "searchingAndOpening(s)\n",
    "wait = WebDriverWait(driver, 10)"
   ]
  },
  {
   "cell_type": "code",
   "execution_count": 19,
   "metadata": {},
   "outputs": [],
   "source": [
    "profile = wait.until(EC.presence_of_element_located((By.XPATH, \"//div[contains(@class, 'XjzKX')]\")))"
   ]
  },
  {
   "cell_type": "code",
   "execution_count": 20,
   "metadata": {},
   "outputs": [],
   "source": [
    "story = False\n",
    "seen = False\n",
    "if \"h5uC0\" in profile.get_attribute('innerHTML'):\n",
    "    story = True\n",
    "    "
   ]
  },
  {
   "cell_type": "code",
   "execution_count": 21,
   "metadata": {},
   "outputs": [
    {
     "data": {
      "text/plain": [
       "False"
      ]
     },
     "execution_count": 21,
     "metadata": {},
     "output_type": "execute_result"
    }
   ],
   "source": []
  },
  {
   "cell_type": "code",
   "execution_count": null,
   "metadata": {},
   "outputs": [],
   "source": []
  },
  {
   "cell_type": "code",
   "execution_count": 11,
   "metadata": {},
   "outputs": [],
   "source": [
    "login()"
   ]
  },
  {
   "cell_type": "code",
   "execution_count": 12,
   "metadata": {},
   "outputs": [
    {
     "name": "stdout",
     "output_type": "stream",
     "text": [
      "foodie_bong4\n",
      "dilsefoodie\n",
      "foodtalkindia\n",
      "food.by.lara\n",
      "find_me_food_first\n",
      "food_n_fotography\n",
      "food\n",
      "food_blogger290\n",
      "food_oo_pedia\n",
      "food_explorer19\n",
      "food_4r_thought\n",
      "food_fanatic_jaipur\n",
      "food_cravingsmumbai\n",
      "foodiesafarii\n",
      "berlinfoodhotspots\n",
      "food_and_bengaluru\n",
      "foodame_dehradun\n",
      "foody.traveller\n",
      "food_lover_riya\n",
      "food_travel_fashion_ftf\n",
      "food_loaders\n",
      "food_travel_insider\n",
      "foodiegirlkolkata\n",
      "food_diarypages_kanpur\n",
      "food.artof\n",
      "foodie_food_zone\n",
      "foodbuzz911\n",
      "foodlikelover\n",
      "food_trove\n",
      "foodie_before_moodie\n",
      "food_pulse\n",
      "food.hangovers\n",
      "food.talkies\n",
      "food_travel_world_0\n",
      "food_babble\n",
      "fooodsnifffer\n",
      "food_blogger_ludhiana\n",
      "halalfoodlog\n",
      "foodl_overs\n",
      "spice_n_snickers\n",
      "foodie__indians\n",
      "foodieauditors\n",
      "foodiesoul_____\n",
      "food_stories_vadodara\n",
      "food_devottee\n",
      "food_magazines\n",
      "food_ask_me\n",
      "food_love7256\n",
      "foodafouti\n",
      "food_fervent\n",
      "foodrad\n",
      "foodinaryclub\n",
      "foodistaaan\n",
      "food_ruunn\n"
     ]
    }
   ],
   "source": [
    "search()"
   ]
  },
  {
   "cell_type": "code",
   "execution_count": 13,
   "metadata": {},
   "outputs": [],
   "source": [
    "searchingAndOpening()"
   ]
  },
  {
   "cell_type": "code",
   "execution_count": 14,
   "metadata": {},
   "outputs": [],
   "source": [
    "follow()"
   ]
  },
  {
   "cell_type": "code",
   "execution_count": 15,
   "metadata": {
    "scrolled": true
   },
   "outputs": [],
   "source": [
    "unfollow()"
   ]
  },
  {
   "cell_type": "code",
   "execution_count": 16,
   "metadata": {},
   "outputs": [],
   "source": [
    "like()"
   ]
  },
  {
   "cell_type": "code",
   "execution_count": 17,
   "metadata": {},
   "outputs": [],
   "source": [
    "unlike()"
   ]
  }
 ],
 "metadata": {
  "kernelspec": {
   "display_name": "Python 3",
   "language": "python",
   "name": "python3"
  },
  "language_info": {
   "codemirror_mode": {
    "name": "ipython",
    "version": 3
   },
   "file_extension": ".py",
   "mimetype": "text/x-python",
   "name": "python",
   "nbconvert_exporter": "python",
   "pygments_lexer": "ipython3",
   "version": "3.7.4"
  }
 },
 "nbformat": 4,
 "nbformat_minor": 2
}
