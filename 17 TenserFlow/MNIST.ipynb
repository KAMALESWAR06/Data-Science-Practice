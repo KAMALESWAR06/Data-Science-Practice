{
 "cells": [
  {
   "cell_type": "code",
   "execution_count": 1,
   "metadata": {},
   "outputs": [],
   "source": [
    "import tensorflow as tf"
   ]
  },
  {
   "cell_type": "code",
   "execution_count": 2,
   "metadata": {},
   "outputs": [],
   "source": [
    "from tensorflow.examples.tutorials.mnist import input_data"
   ]
  },
  {
   "cell_type": "code",
   "execution_count": 4,
   "metadata": {},
   "outputs": [
    {
     "name": "stdout",
     "output_type": "stream",
     "text": [
      "Extracting MNIST_data/train-images-idx3-ubyte.gz\n",
      "Extracting MNIST_data/train-labels-idx1-ubyte.gz\n",
      "Extracting MNIST_data/t10k-images-idx3-ubyte.gz\n",
      "Extracting MNIST_data/t10k-labels-idx1-ubyte.gz\n"
     ]
    }
   ],
   "source": [
    "mnist = input_data.read_data_sets('MNIST_data/', one_hot = True)"
   ]
  },
  {
   "cell_type": "code",
   "execution_count": 5,
   "metadata": {},
   "outputs": [
    {
     "data": {
      "text/plain": [
       "Datasets(train=<tensorflow.contrib.learn.python.learn.datasets.mnist.DataSet object at 0x105cd47d0>, validation=<tensorflow.contrib.learn.python.learn.datasets.mnist.DataSet object at 0x105cd4450>, test=<tensorflow.contrib.learn.python.learn.datasets.mnist.DataSet object at 0x1c345eecd0>)"
      ]
     },
     "execution_count": 5,
     "metadata": {},
     "output_type": "execute_result"
    }
   ],
   "source": [
    "mnist"
   ]
  },
  {
   "cell_type": "code",
   "execution_count": 6,
   "metadata": {},
   "outputs": [
    {
     "data": {
      "text/plain": [
       "(55000, 784)"
      ]
     },
     "execution_count": 6,
     "metadata": {},
     "output_type": "execute_result"
    }
   ],
   "source": [
    "mnist.train.images.shape\n",
    "#55000 images, Each of them is a 28x28 (784) image"
   ]
  },
  {
   "cell_type": "code",
   "execution_count": 7,
   "metadata": {},
   "outputs": [
    {
     "data": {
      "text/plain": [
       "(10000, 784)"
      ]
     },
     "execution_count": 7,
     "metadata": {},
     "output_type": "execute_result"
    }
   ],
   "source": [
    "mnist.test.images.shape"
   ]
  },
  {
   "cell_type": "code",
   "execution_count": 8,
   "metadata": {},
   "outputs": [
    {
     "data": {
      "text/plain": [
       "(5000, 784)"
      ]
     },
     "execution_count": 8,
     "metadata": {},
     "output_type": "execute_result"
    }
   ],
   "source": [
    "mnist.validation.images.shape"
   ]
  },
  {
   "cell_type": "code",
   "execution_count": 9,
   "metadata": {},
   "outputs": [
    {
     "data": {
      "text/plain": [
       "(55000, 10)"
      ]
     },
     "execution_count": 9,
     "metadata": {},
     "output_type": "execute_result"
    }
   ],
   "source": [
    "mnist.train.labels.shape"
   ]
  },
  {
   "cell_type": "code",
   "execution_count": 10,
   "metadata": {},
   "outputs": [
    {
     "data": {
      "text/plain": [
       "array([[0., 0., 0., ..., 1., 0., 0.],\n",
       "       [0., 0., 0., ..., 0., 0., 0.],\n",
       "       [0., 0., 0., ..., 0., 0., 0.],\n",
       "       ...,\n",
       "       [0., 0., 0., ..., 0., 0., 0.],\n",
       "       [0., 0., 0., ..., 0., 0., 0.],\n",
       "       [0., 0., 0., ..., 0., 1., 0.]])"
      ]
     },
     "execution_count": 10,
     "metadata": {},
     "output_type": "execute_result"
    }
   ],
   "source": [
    "mnist.train.labels"
   ]
  },
  {
   "cell_type": "code",
   "execution_count": 11,
   "metadata": {},
   "outputs": [],
   "source": [
    "# We need the Y labels to be one hot encoded as well\n",
    "# i.e If it is 7, It should be [0,0,0,0,0,0,1,0,0]\n",
    "# So we pass one_hot = True as well"
   ]
  },
  {
   "cell_type": "code",
   "execution_count": 13,
   "metadata": {},
   "outputs": [
    {
     "data": {
      "image/png": "[encoded data removed]",
      "text/plain": [
       "<Figure size 432x288 with 1 Axes>"
      ]
     },
     "metadata": {
      "needs_background": "light"
     },
     "output_type": "display_data"
    }
   ],
   "source": [
    "# Lets try to plot the image\n",
    "image = mnist.test.images[0]\n",
    "# image is flattened\n",
    "image = image.reshape((28,28))\n",
    "image\n",
    "\n",
    "import numpy as np\n",
    "import matplotlib.pyplot as plt\n",
    "plt.imshow(image)\n",
    "plt.show()"
   ]
  },
  {
   "cell_type": "code",
   "execution_count": 14,
   "metadata": {},
   "outputs": [
    {
     "name": "stdout",
     "output_type": "stream",
     "text": [
      "[[-2.5117671   0.188058   -1.8330877  -0.55434215  0.68668485 -0.7810005\n",
      "   0.3833186   0.86436146  0.3145311  -0.9779863 ]\n",
      " [ 0.00842875  0.28446016 -2.0184689   1.1950829   1.389681   -1.8883369\n",
      "   0.34321797 -1.555007    0.5318326   0.0811993 ]\n",
      " [ 0.9237874  -0.4487879  -1.0674745  -0.07601457 -0.31856722  0.41682926\n",
      "  -0.01702774 -0.2592789   0.35007045 -1.0674953 ]\n",
      " [ 0.8532975   0.55655926  1.4107684  -0.14707899  0.4151163  -0.07555395\n",
      "  -0.7489874  -1.125044   -1.0427625   3.4269807 ]\n",
      " [ 0.544688   -1.3323705   1.3087733   0.35427278  1.6126227   0.02422106\n",
      "   0.20239411 -0.8952085   0.59676266 -0.56605726]\n",
      " [-0.36908677 -0.67826176  0.23971093  1.7349899   0.35888445 -0.88934845\n",
      "   1.6795468  -0.72406936 -0.90170014 -0.32503632]\n",
      " [ 0.14981481  0.7102554  -0.03845934 -0.5317755   0.35267368  0.79637885\n",
      "  -1.0551496   0.8470625  -0.6219799  -0.6292591 ]\n",
      " [ 0.11661342  0.48457173  0.39721182  1.4581212   0.8053332   1.5038155\n",
      "  -1.320608    1.4786005  -0.49319848  1.193467  ]\n",
      " [ 0.70210356 -0.07715544  1.3673209   0.49330673 -0.47770855  0.31974503\n",
      "  -0.80783105 -0.7246105  -0.95970863  0.28749353]\n",
      " [-0.2854637  -0.9821557   1.6350477   0.18359363 -0.42681152  0.05471304\n",
      "  -0.6091      0.5314537   1.0668834   1.0423286 ]]\n"
     ]
    }
   ],
   "source": [
    "with tf.Session() as sess:\n",
    "    print(tf.random_normal([10,10]).eval())\n",
    "\n",
    "# Returns a 10 x 10 "
   ]
  },
  {
   "cell_type": "code",
   "execution_count": 15,
   "metadata": {},
   "outputs": [],
   "source": [
    "n_input = 784\n",
    "n_hidden_1 = 256\n",
    "n_hidden_2 = 256\n",
    "n_classes = 10\n",
    "\n",
    "weights = {\n",
    "    'h1': tf.Variable(tf.random_normal([n_input, n_hidden_1])),\n",
    "    'h2': tf.Variable(tf.random_normal([n_hidden_1, n_hidden_2])),\n",
    "    'out': tf.Variable(tf.random_normal([n_hidden_2, n_classes]))\n",
    "}\n",
    "\n",
    "bias = {\n",
    "    'h1': tf.Variable(tf.random_normal([n_hidden_1])),\n",
    "    'h2': tf.Variable(tf.random_normal([n_hidden_2])),\n",
    "    'out': tf.Variable(tf.random_normal([n_classes]))\n",
    "}"
   ]
  },
  {
   "cell_type": "code",
   "execution_count": 16,
   "metadata": {},
   "outputs": [],
   "source": [
    "def forward_propagation(x, weights, bias):\n",
    "    in_layer1  = tf.add(tf.matmul(x, weights['h1']), bias['h1'])\n",
    "    out_layer1 = tf.nn.relu(in_layer1)\n",
    "    \n",
    "    in_layer2  = tf.add(tf.matmul(out_layer1, weights['h2']), bias['h2'])\n",
    "    out_layer2 = tf.nn.relu(in_layer2)\n",
    "    \n",
    "    output  = tf.add(tf.matmul(out_layer2, weights['out']), bias['out'])\n",
    "    return output"
   ]
  },
  {
   "cell_type": "code",
   "execution_count": 17,
   "metadata": {},
   "outputs": [],
   "source": [
    "sess = tf.Session()\n",
    "sess.run(tf.global_variables_initializer())\n",
    "x = tf.placeholder('float', shape = (None, n_input))\n",
    "y = tf.placeholder( tf.int32 , shape = (None, n_classes))"
   ]
  },
  {
   "cell_type": "code",
   "execution_count": 18,
   "metadata": {},
   "outputs": [],
   "source": [
    "pred = forward_propagation(x, weights, bias)\n",
    "predictions = tf.argmax(pred, 1)\n",
    "true_labels = tf.argmax(y   , 1)\n",
    "correct_predictions = tf.equal(predictions, true_labels)"
   ]
  },
  {
   "cell_type": "code",
   "execution_count": 19,
   "metadata": {},
   "outputs": [
    {
     "data": {
      "text/plain": [
       "(array([1, 5, 1, ..., 4, 4, 6]),\n",
       " array([7, 3, 4, ..., 5, 6, 8]),\n",
       " array([False, False, False, ..., False, False, False]))"
      ]
     },
     "execution_count": 19,
     "metadata": {},
     "output_type": "execute_result"
    }
   ],
   "source": [
    "pred_eval, labels, correct_pred = sess.run((predictions, true_labels,correct_predictions), feed_dict = {\n",
    "    x: mnist.train.images,\n",
    "    y: mnist.train.labels\n",
    "})\n",
    "pred_eval, labels, correct_pred"
   ]
  },
  {
   "cell_type": "code",
   "execution_count": 20,
   "metadata": {},
   "outputs": [
    {
     "data": {
      "text/plain": [
       "5242"
      ]
     },
     "execution_count": 20,
     "metadata": {},
     "output_type": "execute_result"
    }
   ],
   "source": [
    "correct_pred.sum()"
   ]
  },
  {
   "cell_type": "code",
   "execution_count": 22,
   "metadata": {},
   "outputs": [],
   "source": [
    "cost = tf.reduce_mean(tf.nn.softmax_cross_entropy_with_logits(logits = pred, labels = y))"
   ]
  },
  {
   "cell_type": "code",
   "execution_count": 23,
   "metadata": {},
   "outputs": [],
   "source": [
    "optimizer = tf.train.AdamOptimizer(learning_rate = 0.01)\n",
    "optimize = optimizer.minimize(cost)"
   ]
  },
  {
   "cell_type": "code",
   "execution_count": 24,
   "metadata": {},
   "outputs": [],
   "source": [
    "sess = tf.Session()\n",
    "sess.run(tf.global_variables_initializer())"
   ]
  },
  {
   "cell_type": "code",
   "execution_count": 25,
   "metadata": {},
   "outputs": [
    {
     "name": "stdout",
     "output_type": "stream",
     "text": [
      "27080.484858989716\n",
      "4944.776055276394\n",
      "2645.675828665495\n",
      "1858.5742040966943\n",
      "1372.2409523210492\n",
      "1295.4240672492178\n",
      "1135.4038628583348\n",
      "952.5500904859387\n",
      "872.6491025884878\n",
      "831.6503744026361\n",
      "691.0082217180748\n",
      "651.962082219836\n",
      "531.8282683811356\n",
      "472.6774413220647\n",
      "510.30637703094385\n",
      "521.9308818845252\n",
      "336.1750089059215\n",
      "322.99503075998945\n",
      "300.1148401464191\n",
      "321.5970808898536\n",
      "288.70939408284687\n",
      "249.0087419892013\n",
      "281.45154862653357\n",
      "224.76741610513034\n",
      "162.61593251188583\n"
     ]
    }
   ],
   "source": [
    "batch_size = 100\n",
    "for i in range(25):\n",
    "    num_batches = mnist.train.num_examples  // batch_size\n",
    "    total_cost = 0\n",
    "    for j in range(num_batches):\n",
    "        batch_x, batch_y = mnist.train.next_batch(batch_size)\n",
    "        c, _ = sess.run([cost,optimize], feed_dict = {\n",
    "            x: batch_x,\n",
    "            y: batch_y\n",
    "        })\n",
    "        total_cost += c\n",
    "    print(total_cost)"
   ]
  },
  {
   "cell_type": "code",
   "execution_count": 26,
   "metadata": {},
   "outputs": [
    {
     "data": {
      "text/plain": [
       "9634"
      ]
     },
     "execution_count": 26,
     "metadata": {},
     "output_type": "execute_result"
    }
   ],
   "source": [
    "pred = forward_propagation(x, weights, bias)\n",
    "predictions = tf.argmax(pred, 1)\n",
    "true_labels = tf.argmax(y   , 1)\n",
    "correct_predictions = tf.equal(predictions, true_labels)\n",
    "pred_eval, labels, correct_pred = sess.run((predictions, true_labels,correct_predictions), feed_dict = {\n",
    "    x: mnist.test.images,\n",
    "    y: mnist.test.labels\n",
    "})\n",
    "correct_pred.sum()"
   ]
  }
 ],
 "metadata": {
  "kernelspec": {
   "display_name": "Python 3",
   "language": "python",
   "name": "python3"
  },
  "language_info": {
   "codemirror_mode": {
    "name": "ipython",
    "version": 3
   },
   "file_extension": ".py",
   "mimetype": "text/x-python",
   "name": "python",
   "nbconvert_exporter": "python",
   "pygments_lexer": "ipython3",
   "version": "3.7.4"
  }
 },
 "nbformat": 4,
 "nbformat_minor": 2
}
