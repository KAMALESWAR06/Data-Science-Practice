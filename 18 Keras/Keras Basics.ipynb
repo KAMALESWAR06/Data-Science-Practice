{
 "cells": [
  {
   "cell_type": "code",
   "execution_count": 5,
   "metadata": {},
   "outputs": [],
   "source": [
    "from keras.models import Sequential\n",
    "from keras.layers import Dense"
   ]
  },
  {
   "cell_type": "code",
   "execution_count": 6,
   "metadata": {},
   "outputs": [],
   "source": [
    "model = Sequential()"
   ]
  },
  {
   "cell_type": "code",
   "execution_count": 8,
   "metadata": {},
   "outputs": [],
   "source": [
    "layer1 = Dense(units = 32, activation = 'relu', input_dim = 30)\n",
    "model.add(layer1)\n",
    "model.add(Dense(units = 16, activation = 'relu'))\n",
    "model.add(Dense(units = 1, activation = 'sigmoid'))"
   ]
  },
  {
   "cell_type": "code",
   "execution_count": 10,
   "metadata": {},
   "outputs": [],
   "source": [
    "model.compile(optimizer = 'adam', loss = 'binary_crossentropy', metrics = ['accuracy'])"
   ]
  },
  {
   "cell_type": "code",
   "execution_count": 11,
   "metadata": {},
   "outputs": [],
   "source": [
    "from sklearn import datasets\n",
    "cancer = datasets.load_breast_cancer()\n",
    "from sklearn.model_selection import train_test_split\n",
    "\n",
    "x_train, x_test, y_train, y_test = train_test_split(cancer.data, cancer.target, test_size = 0.2, random_state = 0)\n",
    "\n",
    "from sklearn.preprocessing import StandardScaler\n",
    "\n",
    "sc = StandardScaler()\n",
    "x_train = sc.fit_transform(x_train)\n",
    "x_test = sc.transform(x_test)"
   ]
  },
  {
   "cell_type": "code",
   "execution_count": 13,
   "metadata": {},
   "outputs": [
    {
     "name": "stdout",
     "output_type": "stream",
     "text": [
      "Train on 455 samples, validate on 114 samples\n",
      "Epoch 1/20\n",
      "455/455 [==============================] - 0s 247us/step - loss: 0.3025 - acc: 0.9538 - val_loss: 0.3343 - val_acc: 0.9474\n",
      "Epoch 2/20\n",
      "455/455 [==============================] - 0s 417us/step - loss: 0.2958 - acc: 0.9626 - val_loss: 0.3300 - val_acc: 0.9561\n",
      "Epoch 3/20\n",
      "455/455 [==============================] - 0s 364us/step - loss: 0.2904 - acc: 0.9692 - val_loss: 0.3270 - val_acc: 0.9649\n",
      "Epoch 4/20\n",
      "455/455 [==============================] - 0s 352us/step - loss: 0.2859 - acc: 0.9736 - val_loss: 0.3249 - val_acc: 0.9737\n",
      "Epoch 5/20\n",
      "455/455 [==============================] - 0s 219us/step - loss: 0.2806 - acc: 0.9802 - val_loss: 0.3236 - val_acc: 0.9737\n",
      "Epoch 6/20\n",
      "455/455 [==============================] - 0s 314us/step - loss: 0.2761 - acc: 0.9802 - val_loss: 0.3219 - val_acc: 0.9737\n",
      "Epoch 7/20\n",
      "455/455 [==============================] - 0s 281us/step - loss: 0.2716 - acc: 0.9802 - val_loss: 0.3193 - val_acc: 0.9737\n",
      "Epoch 8/20\n",
      "455/455 [==============================] - 0s 332us/step - loss: 0.2671 - acc: 0.9802 - val_loss: 0.3153 - val_acc: 0.9737\n",
      "Epoch 9/20\n",
      "455/455 [==============================] - 0s 306us/step - loss: 0.2622 - acc: 0.9846 - val_loss: 0.3128 - val_acc: 0.9737\n",
      "Epoch 10/20\n",
      "455/455 [==============================] - 0s 272us/step - loss: 0.2590 - acc: 0.9868 - val_loss: 0.3144 - val_acc: 0.9825\n",
      "Epoch 11/20\n",
      "455/455 [==============================] - 0s 289us/step - loss: 0.2559 - acc: 0.9868 - val_loss: 0.3055 - val_acc: 0.9737\n",
      "Epoch 12/20\n",
      "455/455 [==============================] - 0s 290us/step - loss: 0.2480 - acc: 0.9846 - val_loss: 0.2978 - val_acc: 0.9737\n",
      "Epoch 13/20\n",
      "455/455 [==============================] - 0s 481us/step - loss: 0.2402 - acc: 0.9868 - val_loss: 0.2892 - val_acc: 0.9737\n",
      "Epoch 14/20\n",
      "455/455 [==============================] - 0s 397us/step - loss: 0.2311 - acc: 0.9890 - val_loss: 0.2802 - val_acc: 0.9825\n",
      "Epoch 15/20\n",
      "455/455 [==============================] - 0s 250us/step - loss: 0.2216 - acc: 0.9912 - val_loss: 0.2709 - val_acc: 0.9825\n",
      "Epoch 16/20\n",
      "455/455 [==============================] - 0s 282us/step - loss: 0.2122 - acc: 0.9912 - val_loss: 0.2613 - val_acc: 0.9912\n",
      "Epoch 17/20\n",
      "455/455 [==============================] - 0s 283us/step - loss: 0.2025 - acc: 0.9912 - val_loss: 0.2519 - val_acc: 0.9912\n",
      "Epoch 18/20\n",
      "455/455 [==============================] - 0s 456us/step - loss: 0.1929 - acc: 0.9912 - val_loss: 0.2421 - val_acc: 0.9912\n",
      "Epoch 19/20\n",
      "455/455 [==============================] - 0s 345us/step - loss: 0.1833 - acc: 0.9912 - val_loss: 0.2323 - val_acc: 0.9912\n",
      "Epoch 20/20\n",
      "455/455 [==============================] - 0s 355us/step - loss: 0.1738 - acc: 0.9912 - val_loss: 0.2220 - val_acc: 0.9912\n"
     ]
    },
    {
     "data": {
      "text/plain": [
       "<keras.callbacks.History at 0x1c4f020710>"
      ]
     },
     "execution_count": 13,
     "metadata": {},
     "output_type": "execute_result"
    }
   ],
   "source": [
    "model.fit(x_train, y_train, epochs=20, batch_size = 50, validation_data=(x_test, y_test))"
   ]
  },
  {
   "cell_type": "code",
   "execution_count": 14,
   "metadata": {},
   "outputs": [
    {
     "name": "stdout",
     "output_type": "stream",
     "text": [
      "114/114 [==============================] - 0s 119us/step\n"
     ]
    },
    {
     "data": {
      "text/plain": [
       "[0.2220346728960673, 0.9912280659926566]"
      ]
     },
     "execution_count": 14,
     "metadata": {},
     "output_type": "execute_result"
    }
   ],
   "source": [
    "model.evaluate(x_test, y_test)"
   ]
  }
 ],
 "metadata": {
  "kernelspec": {
   "display_name": "Python 3",
   "language": "python",
   "name": "python3"
  },
  "language_info": {
   "codemirror_mode": {
    "name": "ipython",
    "version": 3
   },
   "file_extension": ".py",
   "mimetype": "text/x-python",
   "name": "python",
   "nbconvert_exporter": "python",
   "pygments_lexer": "ipython3",
   "version": "3.7.4"
  }
 },
 "nbformat": 4,
 "nbformat_minor": 2
}
