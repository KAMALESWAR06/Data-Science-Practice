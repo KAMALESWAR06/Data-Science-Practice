{
 "cells": [
  {
   "cell_type": "markdown",
   "metadata": {},
   "source": [
    "## Case Study - Questions"
   ]
  },
  {
   "cell_type": "markdown",
   "metadata": {},
   "source": [
    "### Question 1"
   ]
  },
  {
   "cell_type": "markdown",
   "metadata": {},
   "source": [
    "Your Friend has developed the Product and he wants to establish the product startup and he is searching for a perfect location where getting the investment has a high chance. But due to its financial restriction, he can choose only between three locations -  Bangalore, Mumbai, and NCR. As a friend, you want to help your friend deciding the location. NCR include Gurgaon, Noida and New Delhi. Find the location where the most number of funding is done. That means, find the location where startups has received funding maximum number of times. Plot the bar graph between location and number of funding. Take city name \"Delhi\" as \"New Delhi\". Check the case-sensitiveness of cities also. That means, at some place instead of \"Bangalore\", \"bangalore\" is given. Take city name as \"Bangalore\". For few startups multiple locations are given, one Indian and one Foreign. Consider the startup if any one of the city lies in given locations."
   ]
  },
  {
   "cell_type": "code",
   "execution_count": 1,
   "metadata": {},
   "outputs": [
    {
     "data": {
      "text/plain": [
       "<Figure size 640x480 with 1 Axes>"
      ]
     },
     "metadata": {},
     "output_type": "display_data"
    },
    {
     "name": "stdout",
     "output_type": "stream",
     "text": [
      "Bangalore 635\n",
      "Mumbai 449\n",
      "New Delhi 389\n",
      "Gurgaon 241\n",
      "Noida 79\n"
     ]
    }
   ],
   "source": [
    "import pandas as pd\n",
    "import matplotlib.pyplot as plt\n",
    "df_startup = pd.read_csv(\"startup_funding.csv\", encoding = \"utf-8\")\n",
    "\n",
    "# Since there are many NaN entries in the data, we can go ahead and drop them \n",
    "# as they won't be helpful in any way in this example and will only increase the complexity\n",
    "\n",
    "df_startup.dropna(subset = [\"CityLocation\"], inplace = True)\n",
    "\n",
    "# Now we can correct the problems in our \"CityLocation\" column such as Delhi -> New Delhi and bangalore -> Bangalore\n",
    "# and only keep the Indian cities\n",
    "\n",
    "def updateCity(location):\n",
    "    cities = location.split('/')\n",
    "    indian_city = cities[0].strip()\n",
    "    if indian_city == \"Delhi\":\n",
    "        indian_city = \"New Delhi\"\n",
    "    if indian_city == \"bangalore\":\n",
    "        indian_city = \"Bangalore\"\n",
    "    return indian_city\n",
    "\n",
    "df_startup[\"CityLocation\"] = df_startup.CityLocation.apply(updateCity)\n",
    "\n",
    "# Now lets extract the startups in Bangalore, Mumbai and Delhi NCR (Delhi, Gurgaon, Nodia)\n",
    "\n",
    "def chooseCity(city):\n",
    "    return city in [\"Bangalore\", \"Mumbai\", \"New Delhi\", \"Gurgaon\", \"Noida\"]\n",
    "\n",
    "df_startup = df_startup[df_startup[\"CityLocation\"].apply(chooseCity)]\n",
    "\n",
    "# Our dataframe only has the required cities, Now we can use value_counts function to extract the required data\n",
    "\n",
    "cities = df_startup[\"CityLocation\"].value_counts().index\n",
    "no_of_fundings = df_startup[\"CityLocation\"].value_counts().values\n",
    "\n",
    "# Let's plot this data on a graph\n",
    "\n",
    "plt.bar(cities, no_of_fundings, color = \"green\", width = 0.5)\n",
    "plt.grid()\n",
    "plt.title(\"No of fundings in Bangalore, Mumbai and Delhi NCR (Between January 2015 to August 2017)\")\n",
    "plt.xlabel(\"Cities\")\n",
    "plt.ylabel(\"No. of fundings\")\n",
    "plt.show()\n",
    "\n",
    "# Lets print the data as well, Just the numbers are clear\n",
    "\n",
    "for i in range(len(cities)):\n",
    "    print(cities[i], no_of_fundings[i])"
   ]
  },
  {
   "cell_type": "markdown",
   "metadata": {},
   "source": [
    "### Inference : \n",
    "**Bangalore** looks like the best city to establish a startup, as the startups in Bangalore have received fundings maximum number of times i.e 635"
   ]
  },
  {
   "cell_type": "markdown",
   "metadata": {},
   "source": [
    "### Question 2"
   ]
  },
  {
   "cell_type": "markdown",
   "metadata": {},
   "source": [
    "Even after trying for so many times, your friend’s startup could not find the investment. So you decided to take this matter in your hand and try to find the list of investors who probably can invest in your friend’s startup. Your list will increase the chance of your friend startup getting some initial investment by contacting these investors. Find the top 5 investors who have invested maximum number of times (consider repeat investments in one company also). In a startup, multiple investors might have invested. So consider each investor for that startup. Ignore undisclosed investors."
   ]
  },
  {
   "cell_type": "code",
   "execution_count": 2,
   "metadata": {},
   "outputs": [
    {
     "name": "stdout",
     "output_type": "stream",
     "text": [
      "Investor\t\tNo. of Investments\n",
      "Sequoia Capital\t\t64\n",
      "Accel Partners\t\t53\n",
      "Kalaari Capital\t\t44\n",
      "SAIF Partners\t\t41\n",
      "Indian Angel Network\t\t40\n"
     ]
    }
   ],
   "source": [
    "import pandas as pd\n",
    "df_startup = pd.read_csv(\"startup_funding.csv\", encoding = \"utf-8\")\n",
    "\n",
    "# Lets us deal with \"Undisclosed Investors\" first, They are represented by Nan values in \"InvestorsName\" column\n",
    "# So, let's remove those rows altogether\n",
    "\n",
    "df_startup.dropna(subset = [\"InvestorsName\"], inplace = True)\n",
    "def removeUndisclosed(investor):\n",
    "    return investor.lower() != \"undisclosed investor\" and investor.lower() != \"undisclosed investors\"\n",
    "df_startup = df_startup[df_startup[\"InvestorsName\"].apply(removeUndisclosed)]\n",
    "\n",
    "# We can store a all the investors and the number of investments they have done in a Dictionary\n",
    "\n",
    "investment_dict = {}\n",
    "def getInvestors(investors):\n",
    "    list_of_investors = investors.split(',')\n",
    "    for inv in list_of_investors:\n",
    "        inv = inv.strip()\n",
    "        investment_dict[inv] = investment_dict.get(inv, 0) + 1\n",
    "\n",
    "df_startup[\"InvestorsName\"].apply(getInvestors)\n",
    "\n",
    "# We have the dictionary filled up, Lets convert it to a DataFrame\n",
    "\n",
    "df_new_startup = pd.DataFrame.from_dict(investment_dict, orient='index')\n",
    "\n",
    "# All the data is in our dataframe, lets sort it and show the first Value\n",
    "\n",
    "df_new_startup.sort_values([0], ascending = False, inplace = True)\n",
    "\n",
    "# Once the Dataframe is sorted in Descending order, We can just show the first value\n",
    "\n",
    "print(\"Investor\",\"No. of Investments\",sep='\\t\\t')\n",
    "for i in range(5):\n",
    "    print(df_new_startup.index[i], df_new_startup.values[i][0], sep = '\\t\\t')"
   ]
  },
  {
   "cell_type": "markdown",
   "metadata": {},
   "source": [
    "### Inference : \n",
    "The top 5 invvestors with the maxiumum investments are as follows:\n",
    "**Sequoia Capital** with 64 investments, **Accel Partners** with 53 investments, **Kalaari Capital** with 44 investments, **SAIF Partners** with 41 investments and **Indian Angel Network** with 40 investments"
   ]
  },
  {
   "cell_type": "markdown",
   "metadata": {},
   "source": [
    "## Question 3\n",
    "After re-analysing the dataset you found out that some investors have invested in the same startup at different number of funding rounds. So before finalising the previous list, you want to improvise it by finding the top 5 investors who have invested in different number of startups. This list will be more helpful than your previous list in finding the investment for your friend startup. Find the top 5 investors who have invested maximum number of times in different companies. That means, if one investor has invested multiple times in one startup, count one for that company. There are many errors in startup names. Ignore correcting all, just handle the important ones - Ola, Flipkart, Oyo and Paytm."
   ]
  },
  {
   "cell_type": "code",
   "execution_count": 3,
   "metadata": {},
   "outputs": [
    {
     "name": "stdout",
     "output_type": "stream",
     "text": [
      "Investor\t\tNo. of Unique Investments\n",
      "Sequoia Capital\t\t48\n",
      "Accel Partners\t\t47\n",
      "Kalaari Capital\t\t41\n",
      "Indian Angel Network\t\t40\n",
      "Blume Ventures\t\t36\n"
     ]
    }
   ],
   "source": [
    "import pandas as pd\n",
    "df_startup = pd.read_csv(\"startup_funding.csv\", encoding = \"utf-8\")\n",
    "\n",
    "# Lets start wihh removing the Undisclosed Investors\n",
    "\n",
    "df_startup.dropna(subset = [\"InvestorsName\"], inplace = True)\n",
    "def removeUndisclosed(investor):\n",
    "    return investor.lower() != \"undisclosed investor\" and investor.lower() != \"undisclosed investors\"\n",
    "df_startup = df_startup[df_startup[\"InvestorsName\"].apply(removeUndisclosed)]\n",
    "\n",
    "\n",
    "# Handling the errors in Popular startup names\n",
    "\n",
    "df_startup[\"StartupName\"].replace(\"Flipkart.com\", \"Flipkart\", inplace = True) \n",
    "df_startup[\"StartupName\"].replace(\"Ola Cabs\", \"Ola\", inplace = True) \n",
    "df_startup[\"StartupName\"].replace(\"Olacabs\", \"Ola\", inplace = True) \n",
    "df_startup[\"StartupName\"].replace(\"Paytm Marketplace\", \"Paytm\", inplace = True) \n",
    "df_startup[\"StartupName\"].replace(\"Oyo Rooms\", \"Oyo\", inplace = True) \n",
    "df_startup[\"StartupName\"].replace(\"Oyorooms\", \"Oyo\", inplace = True) \n",
    "df_startup[\"StartupName\"].replace(\"OyoRooms\", \"Oyo\", inplace = True) \n",
    "df_startup[\"StartupName\"].replace(\"OYO Rooms\", \"Oyo\", inplace = True)\n",
    "\n",
    "# Lets create a Dictionary that stores the Investor and the Companies they have invested in\n",
    "\n",
    "invest_dict = {}\n",
    "\n",
    "def getUniqueInvestors(row):\n",
    "    list_of_investors = row[\"InvestorsName\"].split(',')\n",
    "    startup = row[\"StartupName\"]\n",
    "    for investor in list_of_investors:\n",
    "        if investor is '':\n",
    "            continue\n",
    "        investor = investor.strip()\n",
    "        if invest_dict.get(investor, None) is None:\n",
    "            invest_dict[investor] = list()\n",
    "            invest_dict[investor].append(startup)\n",
    "        elif startup not in invest_dict[investor]:\n",
    "            invest_dict[investor].append(startup)\n",
    "    \n",
    "df_startup.apply(getUniqueInvestors, axis = 1)\n",
    "\n",
    "# Now we can use this dictionary to make another data frame\n",
    "\n",
    "df_unique_startup = pd.DataFrame(columns=['Investor', 'UniqueInvestments'])\n",
    "for investor in invest_dict:\n",
    "    df_unique_startup = df_unique_startup.append({'Investor': investor, 'UniqueInvestments': len(invest_dict[investor])}, ignore_index=True)\n",
    "\n",
    "# Our dataframe is now ready, Lets sort it and reset the index\n",
    "    \n",
    "df_unique_startup.sort_values([\"UniqueInvestments\"], ascending = False, inplace = True)\n",
    "df_unique_startup.reset_index(inplace = True, drop = True)\n",
    "\n",
    "# Now all that's left is to print the top 5 values from this Dataframe\n",
    "\n",
    "print(\"Investor\",\"No. of Unique Investments\",sep='\\t\\t')\n",
    "\n",
    "for i in range(5):\n",
    "    print(df_unique_startup.Investor[i], df_unique_startup.UniqueInvestments[i], sep='\\t\\t')"
   ]
  },
  {
   "cell_type": "markdown",
   "metadata": {},
   "source": [
    "### Inference : \n",
    "The top 5 invvestors with the maxiumum investments are as follows:\n",
    "**Sequoia Capital** with 48 unique investments, **Accel Partners** with 47 unique investments, **Kalaari Capital** with 41 unique investments, **Indian Angel Network** with 40 unique investments and **Blume Ventures** with 36 unique investments"
   ]
  },
  {
   "cell_type": "markdown",
   "metadata": {},
   "source": [
    "## Question 4\n",
    "Even after putting so much effort in finding the probable investors, it didn't turn out to be helpful for your friend. So you went to your investor friend to understand the situation better and your investor friend explained to you about the different Investment Types and their features. This new information will be helpful in finding the right investor. Since your friend startup is at an early stage startup, the best-suited investment type would be - Seed Funding and Crowdfunding. Find the top 5 investors who have invested in a different number of startups and their investment type is Crowdfunding or Seed Funding. Correct spelling of investment types are - \"Private Equity\", \"Seed Funding\", \"Debt Funding\", and \"Crowd Funding\". Keep an eye for any spelling mistake. You can find this by printing unique values from this column. There are many errors in startup names. Ignore correcting all, just handle the important ones - Ola, Flipkart, Oyo and Paytm."
   ]
  },
  {
   "cell_type": "code",
   "execution_count": 4,
   "metadata": {},
   "outputs": [
    {
     "name": "stdout",
     "output_type": "stream",
     "text": [
      "Investor\t\tNo. of Unique Investments (Seed Funding and Crowd Funding)\n",
      "Indian Angel Network\t\t33\n",
      "Rajan Anandan\t\t23\n",
      "LetsVenture\t\t16\n",
      "Anupam Mittal\t\t16\n",
      "Group of Angel Investors\t\t14\n"
     ]
    }
   ],
   "source": [
    "import pandas as pd\n",
    "df_startup = pd.read_csv(\"startup_funding.csv\", encoding = \"utf-8\")\n",
    "\n",
    "# Lets start wihh removing the Undisclosed Investors\n",
    "\n",
    "df_startup.dropna(subset = [\"InvestorsName\"], inplace = True)\n",
    "\n",
    "def removeUndisclosed(investor):\n",
    "    return investor.lower() != \"undisclosed investor\" and investor.lower() != \"undisclosed investors\"\n",
    "df_startup = df_startup[df_startup[\"InvestorsName\"].apply(removeUndisclosed)]\n",
    "\n",
    "# Handling the errors in \"Investment type\"\n",
    "\n",
    "df_startup['InvestmentType'].replace(\"SeedFunding\",\"Seed Funding\",inplace=True) \n",
    "df_startup['InvestmentType'].replace(\"PrivateEquity\",\"Private Equity\",inplace=True) \n",
    "df_startup['InvestmentType'].replace(\"Crowd funding\",\"Crowd Funding\",inplace=True) \n",
    "\n",
    "# We only need Seed Funding and Crowd Funding\n",
    "\n",
    "df_startup = df_startup[(df_startup.InvestmentType == \"Crowd Funding\") | (df_startup.InvestmentType == \"Seed Funding\")]\n",
    "\n",
    "# Handling the errors in Popular startup names\n",
    "\n",
    "df_startup[\"StartupName\"].replace(\"Flipkart.com\", \"Flipkart\", inplace = True) \n",
    "df_startup[\"StartupName\"].replace(\"Ola Cabs\", \"Ola\", inplace = True) \n",
    "df_startup[\"StartupName\"].replace(\"Olacabs\", \"Ola\", inplace = True) \n",
    "df_startup[\"StartupName\"].replace(\"Paytm Marketplace\", \"Paytm\", inplace = True) \n",
    "df_startup[\"StartupName\"].replace(\"Oyo Rooms\", \"Oyo\", inplace = True) \n",
    "df_startup[\"StartupName\"].replace(\"Oyorooms\", \"Oyo\", inplace = True) \n",
    "df_startup[\"StartupName\"].replace(\"OyoRooms\", \"Oyo\", inplace = True) \n",
    "df_startup[\"StartupName\"].replace(\"OYO Rooms\", \"Oyo\", inplace = True)\n",
    "\n",
    "# Lets create a Dictionary that stores the Investor and the Companies they have invested in\n",
    "\n",
    "invest_dict = {}\n",
    "\n",
    "def getUniqueInvestors(row):\n",
    "    list_of_investors = row[\"InvestorsName\"].split(',')\n",
    "    startup = row[\"StartupName\"]\n",
    "    for investor in list_of_investors:\n",
    "        if investor is '':\n",
    "            continue\n",
    "        investor = investor.strip()\n",
    "        if invest_dict.get(investor, None) is None:\n",
    "            invest_dict[investor] = list()\n",
    "            invest_dict[investor].append(startup)\n",
    "        elif startup not in invest_dict[investor]:\n",
    "            invest_dict[investor].append(startup)\n",
    "    \n",
    "df_startup.apply(getUniqueInvestors, axis = 1)\n",
    "\n",
    "# Now we can use this dictionary to make another data frame\n",
    "\n",
    "df_unique_startup = pd.DataFrame(columns=['Investor', 'UniqueInvestments'])\n",
    "for investor in invest_dict:\n",
    "    df_unique_startup = df_unique_startup.append({'Investor': investor, 'UniqueInvestments': len(invest_dict[investor])}, ignore_index=True)\n",
    "\n",
    "# Our dataframe is now ready, Lets sort it and reset the index\n",
    "    \n",
    "df_unique_startup.sort_values([\"UniqueInvestments\"], ascending = False, inplace = True)\n",
    "df_unique_startup.reset_index(inplace = True, drop = True)\n",
    "\n",
    "# Now all that's left is to print the top 5 values from this Dataframe\n",
    "\n",
    "print(\"Investor\",\"No. of Unique Investments (Seed Funding and Crowd Funding)\",sep='\\t\\t')\n",
    "\n",
    "for i in range(5):\n",
    "    print(df_unique_startup.Investor[i], df_unique_startup.UniqueInvestments[i], sep='\\t\\t')"
   ]
  },
  {
   "cell_type": "markdown",
   "metadata": {},
   "source": [
    "### Inference : \n",
    "The top 5 invvestors with investment type as \"Seed Funding\" or \"Crowd Funding\" with the maxiumum investments are as follows:\n",
    "**Indian Angel Network** with 33 unique investments, **Rajan Anandan** with 23 unique investments, **LetsVenture** with 16 unique investments, **Anupam Mittal** with 16 unique investments and **Group of Angel Investors** with 14 unique investments"
   ]
  },
  {
   "cell_type": "markdown",
   "metadata": {},
   "source": [
    "## Question 5\n",
    "Due to your immense help, your friend startup successfully got seed funding and it is on the operational mode. Now your friend wants to expand his startup and he is looking for new investors for his startup. Now you again come as a saviour to help your friend and want to create a list of probable new new investors. Before moving forward you remember your investor friend advice that finding the investors by analysing the investment type. Since your friend startup is not in early phase it is in growth stage so the best-suited investment type is Private Equity. Find the top 5 investors who have invested in a different number of startups and their investment type is Private Equity. Correct spelling of investment types are - \"Private Equity\", \"Seed Funding\", \"Debt Funding\", and \"Crowd Funding\". Keep an eye for any spelling mistake. You can find this by printing unique values from this column.There are many errors in startup names. Ignore correcting all, just handle the important ones - Ola, Flipkart, Oyo and Paytm."
   ]
  },
  {
   "cell_type": "code",
   "execution_count": 5,
   "metadata": {},
   "outputs": [
    {
     "name": "stdout",
     "output_type": "stream",
     "text": [
      "Investor\t\tNo. of Unique Investments (Private Equity)\n",
      "Sequoia Capital\t\t45\n",
      "Accel Partners\t\t43\n",
      "Kalaari Capital\t\t35\n",
      "Blume Ventures\t\t27\n",
      "SAIF Partners\t\t24\n"
     ]
    }
   ],
   "source": [
    "import pandas as pd\n",
    "df_startup = pd.read_csv(\"startup_funding.csv\", encoding = \"utf-8\")\n",
    "\n",
    "# Lets start wihh removing the Undisclosed Investors\n",
    "\n",
    "df_startup.dropna(subset = [\"InvestorsName\"], inplace = True)\n",
    "\n",
    "def removeUndisclosed(investor):\n",
    "    return investor.lower() != \"undisclosed investor\" and investor.lower() != \"undisclosed investors\"\n",
    "df_startup = df_startup[df_startup[\"InvestorsName\"].apply(removeUndisclosed)]\n",
    "\n",
    "# Handling the errors in \"Investment type\"\n",
    "\n",
    "df_startup['InvestmentType'].replace(\"SeedFunding\",\"Seed Funding\",inplace=True) \n",
    "df_startup['InvestmentType'].replace(\"PrivateEquity\",\"Private Equity\",inplace=True) \n",
    "df_startup['InvestmentType'].replace(\"Crowd funding\",\"Crowd Funding\",inplace=True) \n",
    "\n",
    "# We only need Investment type as Private Equity\n",
    "\n",
    "df_startup = df_startup[df_startup.InvestmentType == \"Private Equity\"]\n",
    "\n",
    "# Handling the errors in Popular startup names\n",
    "\n",
    "df_startup[\"StartupName\"].replace(\"Flipkart.com\", \"Flipkart\", inplace = True) \n",
    "df_startup[\"StartupName\"].replace(\"Ola Cabs\", \"Ola\", inplace = True) \n",
    "df_startup[\"StartupName\"].replace(\"Olacabs\", \"Ola\", inplace = True) \n",
    "df_startup[\"StartupName\"].replace(\"Paytm Marketplace\", \"Paytm\", inplace = True) \n",
    "df_startup[\"StartupName\"].replace(\"Oyo Rooms\", \"Oyo\", inplace = True) \n",
    "df_startup[\"StartupName\"].replace(\"Oyorooms\", \"Oyo\", inplace = True) \n",
    "df_startup[\"StartupName\"].replace(\"OyoRooms\", \"Oyo\", inplace = True) \n",
    "df_startup[\"StartupName\"].replace(\"OYO Rooms\", \"Oyo\", inplace = True)\n",
    "\n",
    "# Lets create a Dictionary that stores the Investor and the Companies they have invested in\n",
    "\n",
    "invest_dict = {}\n",
    "\n",
    "def getUniqueInvestors(row):\n",
    "    list_of_investors = row[\"InvestorsName\"].split(',')\n",
    "    startup = row[\"StartupName\"]\n",
    "    for investor in list_of_investors:\n",
    "        if investor is '':\n",
    "            continue\n",
    "        investor = investor.strip()\n",
    "        if invest_dict.get(investor, None) is None:\n",
    "            invest_dict[investor] = list()\n",
    "            invest_dict[investor].append(startup)\n",
    "        elif startup not in invest_dict[investor]:\n",
    "            invest_dict[investor].append(startup)\n",
    "    \n",
    "df_startup.apply(getUniqueInvestors, axis = 1)\n",
    "\n",
    "# Now we can use this dictionary to make another data frame\n",
    "\n",
    "df_unique_startup = pd.DataFrame(columns=['Investor', 'UniqueInvestments'])\n",
    "for investor in invest_dict:\n",
    "    df_unique_startup = df_unique_startup.append({'Investor': investor, 'UniqueInvestments': len(invest_dict[investor])}, ignore_index=True)\n",
    "\n",
    "# Our dataframe is now ready, Lets sort it and reset the index\n",
    "    \n",
    "df_unique_startup.sort_values([\"UniqueInvestments\"], ascending = False, inplace = True)\n",
    "df_unique_startup.reset_index(inplace = True, drop = True)\n",
    "\n",
    "# Now all that's left is to print the top 5 values from this Dataframe\n",
    "\n",
    "print(\"Investor\",\"No. of Unique Investments (Private Equity)\",sep='\\t\\t')\n",
    "\n",
    "for i in range(5):\n",
    "    print(df_unique_startup.Investor[i], df_unique_startup.UniqueInvestments[i], sep='\\t\\t')"
   ]
  },
  {
   "cell_type": "markdown",
   "metadata": {},
   "source": [
    "### Inference : \n",
    "The top 5 invvestors with investment type as \"Private Equity\" with the maxiumum investments are as follows:\n",
    "**Sequoia Capital** with 45 unique investments, **Accel Partners** with 43 unique investments, **Kalaari Capital** with 35 unique investments, **Blume Ventures** with 27 unique investments and **SAIF Partners** with 24 unique investments"
   ]
  },
  {
   "cell_type": "code",
   "execution_count": null,
   "metadata": {},
   "outputs": [],
   "source": []
  }
 ],
 "metadata": {
  "kernelspec": {
   "display_name": "Python 3",
   "language": "python",
   "name": "python3"
  },
  "language_info": {
   "codemirror_mode": {
    "name": "ipython",
    "version": 3
   },
   "file_extension": ".py",
   "mimetype": "text/x-python",
   "name": "python",
   "nbconvert_exporter": "python",
   "pygments_lexer": "ipython3",
   "version": "3.7.4"
  }
 },
 "nbformat": 4,
 "nbformat_minor": 2
}
