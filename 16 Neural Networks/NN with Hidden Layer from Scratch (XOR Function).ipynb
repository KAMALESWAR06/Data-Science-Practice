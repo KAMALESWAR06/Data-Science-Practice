{
 "cells": [
  {
   "cell_type": "code",
   "execution_count": 1,
   "metadata": {},
   "outputs": [],
   "source": [
    "import numpy as np"
   ]
  },
  {
   "cell_type": "code",
   "execution_count": 2,
   "metadata": {},
   "outputs": [
    {
     "data": {
      "text/plain": [
       "((4, 2), (4, 1))"
      ]
     },
     "execution_count": 2,
     "metadata": {},
     "output_type": "execute_result"
    }
   ],
   "source": [
    "X = np.array([[0,0], [0,1], [1,0], [1,1]])\n",
    "Y = np.array([[0,1,1,0]]).T\n",
    "X.shape, Y.shape"
   ]
  },
  {
   "cell_type": "code",
   "execution_count": 3,
   "metadata": {},
   "outputs": [],
   "source": [
    "def sig(z):\n",
    "    return 1 / (1 + np.exp(-z))"
   ]
  },
  {
   "cell_type": "code",
   "execution_count": 4,
   "metadata": {},
   "outputs": [],
   "source": [
    "def derivativeSig(z):\n",
    "    return sig(z) * (1 - sig(z))"
   ]
  },
  {
   "cell_type": "code",
   "execution_count": 11,
   "metadata": {},
   "outputs": [],
   "source": [
    "wh = 2 * np.random.random((2,2)) - 1\n",
    "bh = 2 * np.random.random((1,2)) - 1\n",
    "wo = 2 * np.random.random((2,1)) - 1\n",
    "bo = 2 * np.random.random((1,1)) - 1\n",
    "lr = 0.1"
   ]
  },
  {
   "cell_type": "code",
   "execution_count": 12,
   "metadata": {},
   "outputs": [
    {
     "data": {
      "text/plain": [
       "(array([[0.01524864],\n",
       "        [0.98279989],\n",
       "        [0.98259229],\n",
       "        [0.01406376]]), array([[ 7.56868637, -6.49325521],\n",
       "        [-7.55906669,  6.7751956 ]]), array([[3.88466659, 3.25428897]]), array([[-8.9514996 ],\n",
       "        [-9.05995049]]), array([[13.32647585]]))"
      ]
     },
     "execution_count": 12,
     "metadata": {},
     "output_type": "execute_result"
    }
   ],
   "source": [
    "for iter in range(100000):\n",
    "    output0 = X\n",
    "    inputHidden = np.dot(output0, wh) + bh\n",
    "    output_hidden = sig(inputHidden)\n",
    "    input_output_layer = np.dot(output_hidden, wo) + bo\n",
    "    output = sig(input_output_layer)\n",
    "\n",
    "    first_term_for_output_layer = output - Y\n",
    "    second_term_for_output_layer = derivativeSig(input_output_layer)\n",
    "    first_two_terms_for_output_layer = first_term_for_output_layer * second_term_for_output_layer\n",
    "\n",
    "    first_term_at_hidden_layer = np.dot(first_two_terms_for_output_layer, wo.T)\n",
    "    second_term_at_hidden_layer = derivativeSig(inputHidden)\n",
    "    first_two_terms_for_hidden_layer = first_term_at_hidden_layer * second_term_at_hidden_layer\n",
    "\n",
    "    changes_at_output_layer = np.dot(output_hidden.T, first_two_terms_for_output_layer)\n",
    "    changes_at_output_layer_bias = np.sum(first_two_terms_for_output_layer, axis = 0, keepdims = True)\n",
    "\n",
    "    changes_at_hidden_layer = np.dot(output0.T, first_two_terms_for_hidden_layer)\n",
    "    changes_at_hidden_layer_bias = np.sum(first_two_terms_for_hidden_layer, axis = 0, keepdims = True)\n",
    "\n",
    "    wo = wo - lr * changes_at_output_layer\n",
    "    bo = bo - lr * changes_at_output_layer_bias\n",
    "\n",
    "    wh = wh - lr * changes_at_hidden_layer\n",
    "    bh = bh - lr * changes_at_hidden_layer_bias\n",
    "\n",
    "output0 = X\n",
    "inputHidden = np.dot(output0, wh) + bh\n",
    "output_hidden = sig(inputHidden)\n",
    "input_output_layer = np.dot(output_hidden, wo) + bo\n",
    "output = sig(input_output_layer)\n",
    "output, wh, bh, wo, bo"
   ]
  }
 ],
 "metadata": {
  "kernelspec": {
   "display_name": "Python 3",
   "language": "python",
   "name": "python3"
  },
  "language_info": {
   "codemirror_mode": {
    "name": "ipython",
    "version": 3
   },
   "file_extension": ".py",
   "mimetype": "text/x-python",
   "name": "python",
   "nbconvert_exporter": "python",
   "pygments_lexer": "ipython3",
   "version": "3.7.4"
  }
 },
 "nbformat": 4,
 "nbformat_minor": 2
}
