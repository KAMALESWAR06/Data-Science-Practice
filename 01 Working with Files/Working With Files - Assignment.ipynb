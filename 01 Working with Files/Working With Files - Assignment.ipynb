{
 "cells": [
  {
   "cell_type": "markdown",
   "metadata": {},
   "source": [
    "## Working with Data - Assignment"
   ]
  },
  {
   "cell_type": "markdown",
   "metadata": {},
   "source": [
    "Display all the jobs from Bangalore and Seattle"
   ]
  },
  {
   "cell_type": "code",
   "execution_count": 1,
   "metadata": {},
   "outputs": [
    {
     "name": "stdout",
     "output_type": "stream",
     "text": [
      "66 1856\n"
     ]
    }
   ],
   "source": [
    "import csv\n",
    "\n",
    "with open('datasets/amazon_jobs_dataset.csv', 'r', encoding=\"utf8\") as file_obj:\n",
    "    file_data = list(csv.DictReader(file_obj))\n",
    "\n",
    "bangalore = 0\n",
    "seattle = 0\n",
    "for row in file_data:\n",
    "    if row[\"location\"] == \"US, WA, Seattle \":\n",
    "        seattle += 1\n",
    "    elif row[\"location\"] == \"IN, KA, Bangalore \":\n",
    "        bangalore += 1\n",
    "print(bangalore, seattle)"
   ]
  },
  {
   "cell_type": "markdown",
   "metadata": {},
   "source": [
    "Display All the Computer Vision jobs"
   ]
  },
  {
   "cell_type": "code",
   "execution_count": 3,
   "metadata": {},
   "outputs": [
    {
     "name": "stdout",
     "output_type": "stream",
     "text": [
      "14\n"
     ]
    }
   ],
   "source": [
    "import csv\n",
    "\n",
    "with open('datasets/amazon_jobs_dataset.csv', 'r', encoding=\"utf8\") as file_obj:\n",
    "    file_data = list(csv.DictReader(file_obj))\n",
    "    computer_vision_jobs = 0\n",
    "    for row in file_data:\n",
    "        if \"Computer Vision\" in row[\"Title\"]:\n",
    "            computer_vision_jobs += 1\n",
    "    print(computer_vision_jobs)"
   ]
  },
  {
   "cell_type": "markdown",
   "metadata": {},
   "source": [
    "Show the number of Jobs in Canada"
   ]
  },
  {
   "cell_type": "code",
   "execution_count": 4,
   "metadata": {},
   "outputs": [
    {
     "name": "stdout",
     "output_type": "stream",
     "text": [
      "156\n"
     ]
    }
   ],
   "source": [
    "import csv\n",
    "\n",
    "with open('datasets/amazon_jobs_dataset.csv', 'r', encoding=\"utf8\") as file_obj:\n",
    "    file_data = list(csv.DictReader(file_obj))\n",
    "    jobs_in_canada = 0\n",
    "    for row in file_data:\n",
    "        if \"C\" == row[\"location\"][0] and \"A\" == row[\"location\"][1]:\n",
    "            jobs_in_canada += 1\n",
    "    print(jobs_in_canada)"
   ]
  },
  {
   "cell_type": "markdown",
   "metadata": {},
   "source": [
    "Month with the maximum jobs in 2018"
   ]
  },
  {
   "cell_type": "code",
   "execution_count": 5,
   "metadata": {},
   "outputs": [
    {
     "name": "stdout",
     "output_type": "stream",
     "text": [
      "January 907\n"
     ]
    }
   ],
   "source": [
    "import csv\n",
    "\n",
    "with open('datasets/amazon_jobs_dataset.csv', 'r', encoding=\"utf8\") as file_obj:\n",
    "    file_data = list(csv.DictReader(file_obj))\n",
    "    jobs_in_2018 = {}\n",
    "    for row in file_data:\n",
    "        date = row[\"Posting_date\"].split()\n",
    "        month = date[0]\n",
    "        year = int(float(date[2]))\n",
    "        if year == 2018:\n",
    "            jobs_in_2018[month] = jobs_in_2018.get(month, 0) + 1\n",
    "    ans = None\n",
    "    for m in jobs_in_2018:\n",
    "        if ans is None:\n",
    "            ans = m\n",
    "        else:\n",
    "            if jobs_in_2018[m] > jobs_in_2018[ans]:\n",
    "                ans = m\n",
    "    print(ans, jobs_in_2018[ans])"
   ]
  },
  {
   "cell_type": "markdown",
   "metadata": {},
   "source": [
    "Number of Jobs for Bachelors"
   ]
  },
  {
   "cell_type": "code",
   "execution_count": 6,
   "metadata": {},
   "outputs": [
    {
     "name": "stdout",
     "output_type": "stream",
     "text": [
      "2961\n"
     ]
    }
   ],
   "source": [
    "import csv\n",
    "\n",
    "with open('datasets/amazon_jobs_dataset.csv', 'r', encoding=\"utf8\") as file_obj:\n",
    "    file_data = list(csv.DictReader(file_obj))\n",
    "    bachelor_jobs = 0\n",
    "    for row in file_data:\n",
    "        if \"BA\" in row[\"BASIC QUALIFICATIONS\"] or \"BS\" in row[\"BASIC QUALIFICATIONS\"] or \"Bachelor\" in row[\"BASIC QUALIFICATIONS\"]:\n",
    "            bachelor_jobs += 1\n",
    "    print(bachelor_jobs)"
   ]
  },
  {
   "cell_type": "markdown",
   "metadata": {},
   "source": [
    "Among Java, C++ and Python, which of the language has more job openings in India for Bachelor Degree Holder?"
   ]
  },
  {
   "cell_type": "code",
   "execution_count": 27,
   "metadata": {},
   "outputs": [
    {
     "name": "stdout",
     "output_type": "stream",
     "text": [
      "Java 103\n"
     ]
    }
   ],
   "source": [
    "import csv\n",
    "\n",
    "with open('datasets/amazon_jobs_dataset.csv', 'r', encoding=\"utf8\") as file_obj:\n",
    "    file_data = list(csv.DictReader(file_obj))\n",
    "india_bachelor_list = []\n",
    "for row in file_data:\n",
    "    if \"IN\" in row[\"location\"][:3]:\n",
    "        if \"BA\" in row[\"BASIC QUALIFICATIONS\"] or \"BS\" in row[\"BASIC QUALIFICATIONS\"] or \"Bachelor\" in row[\"BASIC QUALIFICATIONS\"]:\n",
    "            india_bachelor_list.append(row[\"BASIC QUALIFICATIONS\"])\n",
    "py,j,cpp = 0,0,0\n",
    "for row in india_bachelor_list:\n",
    "    if \"Python\" in row:\n",
    "        py += 1\n",
    "    if \"C++\" in row:\n",
    "        cpp += 1\n",
    "    if \"Java\" in row:\n",
    "        j += 1\n",
    "if j > py and j > cpp:\n",
    "    print(\"Java\", j)\n",
    "elif cpp > py and cpp > j:\n",
    "    print(\"C++\", cpp)\n",
    "else:\n",
    "    print(\"Python\", py)"
   ]
  },
  {
   "cell_type": "markdown",
   "metadata": {},
   "source": [
    "Find the country does Amazon need the most number of Java Developer?"
   ]
  },
  {
   "cell_type": "code",
   "execution_count": 3,
   "metadata": {},
   "outputs": [
    {
     "name": "stdout",
     "output_type": "stream",
     "text": [
      "US 2009\n"
     ]
    }
   ],
   "source": [
    "import csv\n",
    "\n",
    "with open('datasets/amazon_jobs_dataset.csv', 'r', encoding=\"utf8\") as file_obj:\n",
    "    file_data = list(csv.DictReader(file_obj))\n",
    "country_java_dev = {}\n",
    "for row in file_data:\n",
    "    if \"Java\" in row[\"BASIC QUALIFICATIONS\"]:\n",
    "        country_java_dev[row[\"location\"][:2]] = country_java_dev.get(row[\"location\"][:2], 0) + 1\n",
    "ans_country = None\n",
    "for c in country_java_dev:\n",
    "    if ans_country is None:\n",
    "        ans_country = c\n",
    "    else:\n",
    "        if country_java_dev[c] > country_java_dev[ans_country]:\n",
    "            ans_country = c\n",
    "print(ans_country, country_java_dev[ans_country])"
   ]
  }
 ],
 "metadata": {
  "kernelspec": {
   "display_name": "Python 3",
   "language": "python",
   "name": "python3"
  },
  "language_info": {
   "codemirror_mode": {
    "name": "ipython",
    "version": 3
   },
   "file_extension": ".py",
   "mimetype": "text/x-python",
   "name": "python",
   "nbconvert_exporter": "python",
   "pygments_lexer": "ipython3",
   "version": "3.7.3"
  }
 },
 "nbformat": 4,
 "nbformat_minor": 2
}
