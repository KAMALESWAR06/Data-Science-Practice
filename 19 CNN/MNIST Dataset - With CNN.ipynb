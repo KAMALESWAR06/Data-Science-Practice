{
 "cells": [
  {
   "cell_type": "code",
   "execution_count": 1,
   "metadata": {},
   "outputs": [],
   "source": [
    "import tensorflow as tf"
   ]
  },
  {
   "cell_type": "code",
   "execution_count": 3,
   "metadata": {},
   "outputs": [
    {
     "name": "stdout",
     "output_type": "stream",
     "text": [
      "Extracting MNIST_data/train-images-idx3-ubyte.gz\n",
      "Extracting MNIST_data/train-labels-idx1-ubyte.gz\n",
      "Extracting MNIST_data/t10k-images-idx3-ubyte.gz\n",
      "Extracting MNIST_data/t10k-labels-idx1-ubyte.gz\n"
     ]
    }
   ],
   "source": [
    "from tensorflow.examples.tutorials.mnist import input_data\n",
    "mnist = input_data.read_data_sets(\"MNIST_data/\", one_hot = True)"
   ]
  },
  {
   "cell_type": "code",
   "execution_count": 4,
   "metadata": {},
   "outputs": [],
   "source": [
    "input_width = 28\n",
    "input_height = 28\n",
    "input_channels = 1\n",
    "input_pixels = 784\n",
    "\n",
    "n_conv1 = 32\n",
    "n_conv2 = 64\n",
    "\n",
    "stride_conv1 = 1\n",
    "stride_conv2 = 1\n",
    "\n",
    "k_conv1 = 5\n",
    "k_conv2 = 5\n",
    "\n",
    "k_max_pool1 = 2\n",
    "k_max_pool2 = 2\n",
    "\n",
    "n_hidden = 1024\n",
    "n_output = 10\n",
    "\n",
    "input_size_to_hidden = (input_width//(k_max_pool1 * k_max_pool2))* (input_height//(k_max_pool1 * k_max_pool2)) * n_conv2"
   ]
  },
  {
   "cell_type": "code",
   "execution_count": 5,
   "metadata": {},
   "outputs": [],
   "source": [
    "weights = {\n",
    "    \"wc1\" : tf.Variable(tf.random_normal([k_conv1, k_conv1, input_channels, n_conv1])),\n",
    "    \"wc2\" : tf.Variable(tf.random_normal([k_conv2, k_conv2, n_conv1, n_conv2])),\n",
    "    \"wh1\" : tf.Variable(tf.random_normal([input_size_to_hidden, n_hidden])),\n",
    "    \"wo\"  : tf.Variable(tf.random_normal([n_hidden, n_output])) \n",
    "}\n",
    "biases = {\n",
    "    \"bc1\" : tf.Variable(tf.random_normal([n_conv1])),\n",
    "    \"bc2\" : tf.Variable(tf.random_normal([n_conv2])),\n",
    "    \"bh1\" : tf.Variable(tf.random_normal([n_hidden])),\n",
    "    \"bo\"  : tf.Variable(tf.random_normal([n_output]))\n",
    "}"
   ]
  },
  {
   "cell_type": "markdown",
   "metadata": {},
   "source": [
    "## Forward Propagation"
   ]
  },
  {
   "cell_type": "code",
   "execution_count": 6,
   "metadata": {},
   "outputs": [],
   "source": [
    "def conv(x, weights, bias, strides = 1):\n",
    "    #Apply the filter on image\n",
    "    out = tf.nn.conv2d(x, weights, padding=\"SAME\", strides= [1, strides, strides, 1])\n",
    "    \n",
    "    #Adding biases\n",
    "    out = tf.nn.bias_add(out, bias)\n",
    "    \n",
    "    #Applying relu activation function\n",
    "    out = tf.nn.relu(out)\n",
    "    \n",
    "    return out\n",
    "\n",
    "def maxPooling(x, k=2):\n",
    "    return tf.nn.max_pool(x, padding =\"SAME\", ksize = [1, k, k, 1], strides = [1, k, k, 1])"
   ]
  },
  {
   "cell_type": "code",
   "execution_count": 7,
   "metadata": {},
   "outputs": [],
   "source": [
    "def cnn(x, weights, biases, keep_prob):\n",
    "    # Reshape the image\n",
    "    x = tf.reshape(x, shape = [-1 , input_width, input_height, input_channels])\n",
    "    \n",
    "    # Passing it with the CNN 1\n",
    "    conv1 = conv(x, weights['wc1'], biases['bc1'], stride_conv1)\n",
    "    conv1_pool = maxPooling(conv1, k_max_pool1)\n",
    "    \n",
    "    # Passing it with the CNN 2\n",
    "    conv2 = conv(conv1_pool, weights['wc2'], biases['bc2'], stride_conv2)\n",
    "    conv2_pool = maxPooling(conv2, k_max_pool2)\n",
    "    \n",
    "    #Reshape the image\n",
    "    hidden_input = tf.reshape(conv2_pool, shape = [-1, input_size_to_hidden])\n",
    "    \n",
    "    #Passing it with hidden dense layer\n",
    "    hidden_output_before_activation = tf.add(tf.matmul(hidden_input, weights['wh1']), biases['bh1']) \n",
    "    hidden_output_before_dropout = tf.nn.relu(hidden_output_before_activation)\n",
    "    \n",
    "    # Passing it with Dropout Layer\n",
    "    hidden_output = tf.nn.dropout(hidden_output_before_dropout, keep_prob)\n",
    "    \n",
    "    #Passing it with output layer\n",
    "    output = tf.add(tf.matmul(hidden_output, weights['wo']), biases['bo'])\n",
    "    \n",
    "    return output"
   ]
  },
  {
   "cell_type": "markdown",
   "metadata": {},
   "source": [
    "Note: we need to make these changes in our code if we change the padding in conv & maxpool to “valid:\n",
    "\n",
    "    1. Weights of the hidden layer\n",
    "    2. Reshaping code before feeding into Hidden layer "
   ]
  },
  {
   "cell_type": "code",
   "execution_count": 9,
   "metadata": {},
   "outputs": [],
   "source": [
    "# Making Predictions by forward Propagation\n",
    "x = tf.placeholder(\"float\", [None, input_pixels])\n",
    "y = tf.placeholder(tf.int32,[None, n_output] )\n",
    "keep_prob = tf.placeholder(\"float\")\n",
    "\n",
    "pred = cnn(x, weights, biases, keep_prob)"
   ]
  },
  {
   "cell_type": "code",
   "execution_count": 10,
   "metadata": {},
   "outputs": [],
   "source": [
    "#Cost Function\n",
    "cost = tf.reduce_mean(tf.nn.softmax_cross_entropy_with_logits_v2(logits=pred, labels=y))"
   ]
  },
  {
   "cell_type": "code",
   "execution_count": 11,
   "metadata": {},
   "outputs": [],
   "source": [
    "optimizer = tf.train.AdamOptimizer(learning_rate=0.01)\n",
    "optimize = optimizer.minimize(cost)"
   ]
  },
  {
   "cell_type": "code",
   "execution_count": 12,
   "metadata": {},
   "outputs": [],
   "source": [
    "sess = tf.Session()\n",
    "sess.run(tf.global_variables_initializer())"
   ]
  },
  {
   "cell_type": "code",
   "execution_count": 13,
   "metadata": {},
   "outputs": [
    {
     "name": "stdout",
     "output_type": "stream",
     "text": [
      "1124996.3135261536\n",
      "39610.884020231664\n",
      "23037.08407678287\n",
      "15854.257151158381\n",
      "11993.914579317989\n",
      "8614.258532516846\n",
      "7965.49903286912\n",
      "8661.198405948468\n",
      "7381.678427191073\n",
      "6265.236901548046\n",
      "4851.742510277588\n",
      "5768.2143898897275\n",
      "5588.808284191156\n",
      "5024.905583983153\n",
      "3718.332969117444\n",
      "3456.853692193401\n",
      "3324.0945233419234\n",
      "3709.0158968678993\n",
      "3111.8419402707123\n",
      "3053.3275695438642\n",
      "2776.7635871437988\n",
      "2687.196164058223\n",
      "2775.540983928223\n",
      "1867.5103327859388\n",
      "1915.9476898354976\n"
     ]
    }
   ],
   "source": [
    "batch_size = 100\n",
    "# Running multiple iterations of Optimizer\n",
    "for iter in range(25):\n",
    "    # Batch Gradient Descent\n",
    "    num_batches = int(mnist.train.num_examples / batch_size)\n",
    "    total_cost = 0  #Total cost in a batch\n",
    "    for j in range(num_batches):\n",
    "        batch_x, batch_y = mnist.train.next_batch(batch_size)\n",
    "        c, _ = sess.run([cost, optimize], feed_dict = {x : batch_x, y: batch_y, keep_prob:0.8})\n",
    "        total_cost += c\n",
    "    print(total_cost)"
   ]
  },
  {
   "cell_type": "code",
   "execution_count": 14,
   "metadata": {},
   "outputs": [
    {
     "data": {
      "text/plain": [
       "9860"
      ]
     },
     "execution_count": 14,
     "metadata": {},
     "output_type": "execute_result"
    }
   ],
   "source": [
    "predictions = tf.argmax(pred, 1)  \n",
    "correct_labels = tf.argmax(y, 1)\n",
    "correct_predictions = tf.equal(predictions, correct_labels)\n",
    "\n",
    "predictions, correct_predictions =  sess.run([predictions, correct_predictions], \n",
    "                                                   feed_dict = {x: mnist.test.images, y: mnist.test.labels, keep_prob:1.0})\n",
    "correct_predictions.sum()"
   ]
  },
  {
   "cell_type": "markdown",
   "metadata": {},
   "source": [
    "Without dropout : 9859\n",
    "\n",
    "With droupout : 9860 "
   ]
  }
 ],
 "metadata": {
  "kernelspec": {
   "display_name": "Python 3",
   "language": "python",
   "name": "python3"
  },
  "language_info": {
   "codemirror_mode": {
    "name": "ipython",
    "version": 3
   },
   "file_extension": ".py",
   "mimetype": "text/x-python",
   "name": "python",
   "nbconvert_exporter": "python",
   "pygments_lexer": "ipython3",
   "version": "3.7.4"
  }
 },
 "nbformat": 4,
 "nbformat_minor": 2
}
