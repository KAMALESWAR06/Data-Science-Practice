{
 "cells": [
  {
   "cell_type": "markdown",
   "metadata": {},
   "source": [
    "Zomato API "
   ]
  },
  {
   "cell_type": "code",
   "execution_count": 2,
   "metadata": {},
   "outputs": [],
   "source": [
    "# 2dd776197f33176ef3452f5ded8f3797"
   ]
  },
  {
   "cell_type": "markdown",
   "metadata": {},
   "source": [
    "Fetch the cuisine_id of ‘Mexican’ cuisine using Zomato API."
   ]
  },
  {
   "cell_type": "code",
   "execution_count": 54,
   "metadata": {},
   "outputs": [
    {
     "name": "stdout",
     "output_type": "stream",
     "text": [
      "73\n"
     ]
    }
   ],
   "source": [
    "import requests\n",
    "h = {\n",
    "    'user-key' : '2dd776197f33176ef3452f5ded8f3797'\n",
    "}\n",
    "p = {\n",
    "    'city_id' : 1\n",
    "}\n",
    "res = requests.get('https://developers.zomato.com/api/v2.1/cuisines', headers = h, params = p)\n",
    "data = res.json()\n",
    "for c in data['cuisines']:\n",
    "    if c['cuisine']['cuisine_name'] == 'Mexican':\n",
    "        print(c['cuisine']['cuisine_id'])"
   ]
  },
  {
   "cell_type": "markdown",
   "metadata": {},
   "source": [
    "Fetch the entityid and entitytype of place Connaught Place.\n",
    "Print the entityid and entitytype,"
   ]
  },
  {
   "cell_type": "code",
   "execution_count": 29,
   "metadata": {},
   "outputs": [
    {
     "name": "stdout",
     "output_type": "stream",
     "text": [
      "subzone 104\n"
     ]
    }
   ],
   "source": [
    "import requests\n",
    "h = {\n",
    "    'user-key' : '2dd776197f33176ef3452f5ded8f3797'\n",
    "}\n",
    "p = {\n",
    "    'query' : 'Connaught Place',\n",
    "    'limit' : 1\n",
    "}\n",
    "res = requests.get('https://developers.zomato.com/api/v2.1/locations', headers = h, params = p)\n",
    "data = res.json()\n",
    "entity_type = data['location_suggestions'][0]['entity_type']\n",
    "entity_id = data['location_suggestions'][0]['entity_id']\n",
    "print(entity_type, entity_id)"
   ]
  },
  {
   "cell_type": "code",
   "execution_count": 55,
   "metadata": {},
   "outputs": [
    {
     "data": {
      "text/plain": [
       "6"
      ]
     },
     "execution_count": 55,
     "metadata": {},
     "output_type": "execute_result"
    }
   ],
   "source": [
    "import requests\n",
    "h = {\n",
    "    'user-key' : '2dd776197f33176ef3452f5ded8f3797'\n",
    "}\n",
    "res = requests.get('https://developers.zomato.com/api/v2.1/categories', headers = h)\n",
    "data = res.json()\n",
    "data['categories'][5]['categories']['id']"
   ]
  },
  {
   "cell_type": "markdown",
   "metadata": {},
   "source": [
    "Fetch the details of restaurant 736 AD using Zomato API.\n",
    "Print the user rating, average cost for two, cuisines and address of 736 AD.\n"
   ]
  },
  {
   "cell_type": "code",
   "execution_count": 75,
   "metadata": {},
   "outputs": [
    {
     "name": "stdout",
     "output_type": "stream",
     "text": [
      "4.1\n",
      "1400\n",
      "North Indian, Continental, Italian, Chinese, Momos\n",
      "G-15/B, Vijay Nagar, New Delhi\n"
     ]
    }
   ],
   "source": [
    "import requests\n",
    "h = {\n",
    "    'user-key' : '2dd776197f33176ef3452f5ded8f3797'\n",
    "}\n",
    "p = {\n",
    "    'q' : '736 AD'\n",
    "}\n",
    "res = requests.get('https://developers.zomato.com/api/v2.1/search', headers = h, params = p)\n",
    "data = res.json()\n",
    "res = data['restaurants'][0]['restaurant']\n",
    "print(res['user_rating']['aggregate_rating'])\n",
    "print(res['average_cost_for_two'])\n",
    "print(res['cuisines'])\n",
    "print(res['location']['address'])"
   ]
  },
  {
   "cell_type": "markdown",
   "metadata": {},
   "source": [
    "Find out whether online table reservation is supported in 736 AD or not using Zomato API.\n",
    "Print 'yes' if online table reservation is supported else 'no'"
   ]
  },
  {
   "cell_type": "code",
   "execution_count": 80,
   "metadata": {},
   "outputs": [
    {
     "name": "stdout",
     "output_type": "stream",
     "text": [
      "yes\n"
     ]
    }
   ],
   "source": [
    "import requests\n",
    "h = {\n",
    "    'user-key' : '2dd776197f33176ef3452f5ded8f3797'\n",
    "}\n",
    "p = {\n",
    "    'res_id' : '18241524'\n",
    "}\n",
    "res = requests.get('https://developers.zomato.com/api/v2.1/restaurant', headers = h, params = p)\n",
    "data = res.json()\n",
    "if data['is_table_reservation_supported']:\n",
    "    print('yes')\n",
    "else:\n",
    "    print('no')"
   ]
  },
  {
   "cell_type": "markdown",
   "metadata": {},
   "source": [
    "Fetch the latest review of restaurant 736 AD using Zomato API.\n",
    "Print the name of user ,user rating and review text.\n"
   ]
  },
  {
   "cell_type": "code",
   "execution_count": 98,
   "metadata": {},
   "outputs": [
    {
     "name": "stdout",
     "output_type": "stream",
     "text": [
      "Tarun Jain 🙏 2 Randomly picked that place to grab a beer with some good snacks on one Sunday evening. When we entered it was almost vacant, that clearly tells about the review. Order beers and Delhi Masala Pizaa which was partially burnt/with very hard base. Then ordered Dal Makhani with Garlic Naan & I have never had Sweet Dal Makhani. But they were serving like this only. Overall review is not good and felt like wasted money. Go at your own risk...\n",
      "Sarthakgoyal2004 4 \n",
      "Shiva 3 This outlet is situated on the main road of gtb nagar and is one of the crowd favorites as they have in house bar.  Taste of the food is good, almost all the items taste good, portion size however can be better according to price.  I really don't understand the taxes they levy whether you take alcohol or not.  Mostly people come here in groups as the place is always set up in a party mood.  Price points and their unwillingness to waive off additional unwanted charges is a huge let down.\n",
      "Siddharth Jain 4 \n",
      "Amol Sirohi 2 We had the Schezwan Momos here and to my surprise, they served us simple Momos in the name of schezwan Momo's. Neither they had any flavour nor they were spicy.\n"
     ]
    }
   ],
   "source": [
    "import requests\n",
    "h = {\n",
    "    'user-key' : '2dd776197f33176ef3452f5ded8f3797'\n",
    "}\n",
    "p = {\n",
    "    'res_id' : '18241524',\n",
    "    'count' : '5'\n",
    "}\n",
    "res = requests.get('https://developers.zomato.com/api/v2.1/reviews', headers = h, params = p)\n",
    "data = res.json()\n",
    "for rev in data['user_reviews']:\n",
    "    print(rev['review']['user']['name'], rev['review']['rating'],rev['review']['review_text'])"
   ]
  },
  {
   "cell_type": "markdown",
   "metadata": {},
   "source": [
    "Fetch the top 10 best-rated restaurant serving ‘Mexican’ cuisine present in Connaught Place.\n",
    "Print the restaurant name, user rating and restaurant id."
   ]
  },
  {
   "cell_type": "code",
   "execution_count": 133,
   "metadata": {},
   "outputs": [
    {
     "name": "stdout",
     "output_type": "stream",
     "text": [
      "Samay 5 This place was a cozy one. Great lighting and ambience. They had a live music going on, and the guy was brilliant. The choice of songs was amazing. Apart from these things, the food was above average. For a place like BARRACKS with such a good rating, i expected more. Never the less, what i ordered was amazing. The taste was good. Personal recommendation will be SERRANO CHICKEN. I would recommend them to add a few more options to their menu. Rest everything was amazing.\n",
      "Apoorva Dixit 5 38 barracks has been me and friends adda from a long time. i had a lot of memories associated with this place. yesterday I went here to celebrate the Saturday night and I had Greek salad, hummus and pita bread, arabiata pasta, pizza and some mocktails. Its always a chill time here. Staff, service and ambience are top notch.\n",
      "Kartik Kapoor 5 an amazing place to be with friends and family the place serves some amazing food which is fingerlicking and also has some great menu items which can satisfy your tastebuds.the ambience is very nice and pleasant.overalll an amazing experience here.\n",
      "Tejas FOODcomics 5 Great place to chill and Relax. The food is great and the have a wide variety of veg and non veg dishes. Its a multi cuisine outlet to suit all. The food tasty and hygienic. The ambience is very good. The staff is cooperative and nice. Good place\n",
      "Sarthakgoyal2004 4 \n"
     ]
    }
   ],
   "source": [
    "import requests\n",
    "h = {\n",
    "    'user-key' : '2dd776197f33176ef3452f5ded8f3797'\n",
    "}\n",
    "p = {\n",
    "    'entity_type' : 'subzone',\n",
    "    'entity_id' : '104',\n",
    "    'cuisines' : '73',\n",
    "    'sort': 'rating',\n",
    "    'order' : 'desc',\n",
    "    'count' : '1',\n",
    "    'category': '6'\n",
    "}\n",
    "res = requests.get('https://developers.zomato.com/api/v2.1/search', headers = h, params = p)\n",
    "data = res.json()\n",
    "for review in data['restaurants'][0]['restaurant']['all_reviews']['reviews']:\n",
    "    print(review['review']['user']['name'], review['review']['rating'], review['review']['review_text'])"
   ]
  },
  {
   "cell_type": "markdown",
   "metadata": {},
   "source": [
    "Fetch the list of the top 10 restaurants serving cuisine ‘BBQ’ which are nearest to Coding Ninjas.\n",
    "Print the restaurant name, user rating, restaurant id and locality in which restaurant is present.\n"
   ]
  },
  {
   "cell_type": "code",
   "execution_count": 140,
   "metadata": {},
   "outputs": [
    {
     "name": "stdout",
     "output_type": "stream",
     "text": [
      "Themis Barbecue House 4.6 18204820 Netaji Subhash Place\n",
      "Barbeque Nation 4.2 9561 Netaji Subhash Place\n",
      "Bengal Bar-Be-Que 0 19250749 Pitampura\n",
      "New Bombay Bar-Be-Que 3.5 5303 Prashant Vihar\n",
      "Changezi Bar-be-que & Mughlai 0 19050115 Rohini\n",
      "Wow! Chicken 0 18998624 Rohini\n",
      "Picnick Scooter Cafe 0 19149978 Punjabi Bagh\n",
      "Chicken Adda 0 19179179 Rohini\n",
      "7teen BBQ Bistro Bnq 3.8 18595610 Moti Nagar\n",
      "Pishori Chicken 0 19061375 Kirti Nagar\n"
     ]
    }
   ],
   "source": [
    "# Coding Ninjas 28.697513,77.1384332\n",
    "import requests\n",
    "h = {\n",
    "    'user-key' : '2dd776197f33176ef3452f5ded8f3797'\n",
    "}\n",
    "p = {\n",
    "    'cuisines' : '193',\n",
    "    'sort': 'real_distance',\n",
    "    'order' : 'asc',\n",
    "    'count' : '10',\n",
    "    'lat' : '28.697513',\n",
    "    'lon' : '77.1384332'\n",
    "}\n",
    "res = requests.get('https://developers.zomato.com/api/v2.1/search', headers = h, params = p)\n",
    "data = res.json()\n",
    "data['restaurants']\n",
    "for res in data['restaurants']:\n",
    "    print(res['restaurant']['name'], res['restaurant']['user_rating']['aggregate_rating'],res['restaurant']['R']['res_id'] , res['restaurant']['location']['locality'])"
   ]
  },
  {
   "cell_type": "markdown",
   "metadata": {},
   "source": [
    "Fetch the latest review of the restaurant serving cuisine ‘BBQ’ which is most nearest to Coding ninjas?\n",
    "Print the name of user ,user rating and review text.\n"
   ]
  },
  {
   "cell_type": "code",
   "execution_count": 142,
   "metadata": {},
   "outputs": [
    {
     "name": "stdout",
     "output_type": "stream",
     "text": [
      "FLAVOURS OF DELHI/NCR 5 Today I have been to this place. Such an amazing interior. Both their indoor and outdoor dining. Just loved their service. We have tried many veg starters, but the Chaap is the best, I had the best chaap till date. Main course was also good. Drinks were super amazing. Must go this place.\n",
      "Delhi Food Nest 5 This place is perfect to spend quality time with friends and family. The place has a cosy ambiance with live music. They also have a rooftop seating area with a lot of greenery, which is perfect for that romantic dine in experience. They are well known for their pocket friendly buffet options, available both in veg and non veg. We tried both options starting with the starters which were barbequed just on our table. Really loved the zaffrani paneer tikka, oyester chilli fish and murgh malai kasoori. Also tried the salsa fried potato which tasted amazing. In drinks, we had regular and kiwi mojito, both were good. For main course, we had biryani, dal makhni, paneer tikka masala, dumpukt chicken, rara gosht with rice and butter naan. The dishes were amazing in taste. But, we couldn't try other main course items as we were almost full and couldn't resist to try their desserts. We had a plate full of desserts. The gulab jamun and icecream was best. Also tried gulabo kheer for the first time and it was really tasty. Overall, we had a great meal at this outlet. Definitely recommend this place!  Recommendations: Paneer tikka, murgh tikka, salsa fried potato, chilli fish, Ra-ra gosht, paneer tikka masala, noodles and all desserts.\n",
      "Mohit Kumar 4 Themis Barbecue House located in NSP. They have inside and outside seating area. Indoor sitting has very dim lighting and outdoor gives a view of metro. Now coming to the taste of the snacks, the taste of all the veg snacks was very good. The main course was quit good too.. I had superb experience.. surely going to visit again with my stag.. Happy Eating..😋😋\n",
      "Gaurav Manocha 5 Best place to have buffet . Starters were awesome with amazing desserts. Main course was good. We had their non veg buffet. Prawns were must try.\n",
      "Sarthakgoyal2004 5 \n"
     ]
    }
   ],
   "source": [
    "# Coding Ninjas 28.697513,77.1384332\n",
    "import requests\n",
    "h = {\n",
    "    'user-key' : '2dd776197f33176ef3452f5ded8f3797'\n",
    "}\n",
    "p = {\n",
    "    'cuisines' : '193',\n",
    "    'sort': 'real_distance',\n",
    "    'order' : 'asc',\n",
    "    'count' : '10',\n",
    "    'lat' : '28.697513',\n",
    "    'lon' : '77.1384332'\n",
    "}\n",
    "res = requests.get('https://developers.zomato.com/api/v2.1/search', headers = h, params = p)\n",
    "data = res.json()\n",
    "for review in data['restaurants'][0]['restaurant']['all_reviews']['reviews']:\n",
    "    print(review['review']['user']['name'], review['review']['rating'], review['review']['review_text'])"
   ]
  },
  {
   "cell_type": "code",
   "execution_count": 146,
   "metadata": {},
   "outputs": [
    {
     "name": "stdout",
     "output_type": "stream",
     "text": [
      "Delhi Barbeque 4.7 18964418 Mahipalpur\n",
      "Themis Barbecue House 4.6 18204820 Netaji Subhash Place\n",
      "AB's - Absolute Barbecues 4.5 18601364 MGF Metropolis Mall, MG Road\n",
      "Drink Wink 4.5 18692950 Southern Park Mall, Saket\n",
      "The Barbeque Company 4.4 18317477 Karkardooma\n",
      "Castle's Barbeque 4.4 18624001 Pacific Mall, Tagore Garden\n",
      "Barbeque Nation 4.4 18586005 Grand Mall, MG Road\n",
      "Spize Barbeque & Bar 4.4 311017 Sector 63\n",
      "The Barbeque Company 4.3 17977777 Jail Road\n",
      "Barbeque Nation 4.3 301489 Connaught Place\n"
     ]
    }
   ],
   "source": [
    "# Coding Ninjas 28.697513,77.1384332\n",
    "import requests\n",
    "h = {\n",
    "    'user-key' : '2dd776197f33176ef3452f5ded8f3797'\n",
    "}\n",
    "p = {\n",
    "    'cuisines' : '193',\n",
    "    'sort': 'rating',\n",
    "    'order' : 'desc',\n",
    "    'count' : '10',\n",
    "    'lat' : '28.697513',\n",
    "    'lon' : '77.1384332',\n",
    "    'radius': '4000'\n",
    "}\n",
    "res = requests.get('https://developers.zomato.com/api/v2.1/search', headers = h, params = p)\n",
    "data = res.json()\n",
    "data['restaurants']\n",
    "for res in data['restaurants']:\n",
    "    print(res['restaurant']['name'], res['restaurant']['user_rating']['aggregate_rating'],res['restaurant']['R']['res_id'] , res['restaurant']['location']['locality'])"
   ]
  },
  {
   "cell_type": "code",
   "execution_count": null,
   "metadata": {},
   "outputs": [],
   "source": []
  }
 ],
 "metadata": {
  "kernelspec": {
   "display_name": "Python 3",
   "language": "python",
   "name": "python3"
  },
  "language_info": {
   "codemirror_mode": {
    "name": "ipython",
    "version": 3
   },
   "file_extension": ".py",
   "mimetype": "text/x-python",
   "name": "python",
   "nbconvert_exporter": "python",
   "pygments_lexer": "ipython3",
   "version": "3.7.4"
  }
 },
 "nbformat": 4,
 "nbformat_minor": 2
}
