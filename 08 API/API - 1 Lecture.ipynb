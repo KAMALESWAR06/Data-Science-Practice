{
 "cells": [
  {
   "cell_type": "code",
   "execution_count": 5,
   "metadata": {},
   "outputs": [
    {
     "name": "stdout",
     "output_type": "stream",
     "text": [
      "200\n"
     ]
    }
   ],
   "source": [
    "import requests\n",
    "r = requests.get('http://api.open-notify.org/iss-now.json')\n",
    "print(r.status_code)"
   ]
  },
  {
   "cell_type": "code",
   "execution_count": 9,
   "metadata": {},
   "outputs": [
    {
     "name": "stdout",
     "output_type": "stream",
     "text": [
      "application/json\n"
     ]
    }
   ],
   "source": [
    "import requests\n",
    "r = requests.get('http://api.open-notify.org/iss-now.json')\n",
    "print(r.headers[\"Content-Type\"])"
   ]
  },
  {
   "cell_type": "code",
   "execution_count": 19,
   "metadata": {},
   "outputs": [
    {
     "name": "stdout",
     "output_type": "stream",
     "text": [
      "afghan\n",
      "basset\n",
      "blood\n",
      "english\n",
      "ibizan\n",
      "walker\n"
     ]
    }
   ],
   "source": [
    "import requests\n",
    "r = requests.get('https://dog.ceo/api/breeds/list/all')\n",
    "data = r.json()\n",
    "print(*data['message']['hound'], sep='\\n')"
   ]
  },
  {
   "cell_type": "code",
   "execution_count": 24,
   "metadata": {},
   "outputs": [
    {
     "name": "stdout",
     "output_type": "stream",
     "text": [
      "Alderaan\n",
      "Yavin IV\n",
      "Hoth\n",
      "Dagobah\n",
      "Bespin\n",
      "Endor\n",
      "Naboo\n",
      "Coruscant\n",
      "Kamino\n",
      "Geonosis\n"
     ]
    }
   ],
   "source": [
    "import requests\n",
    "r = requests.get('https://swapi.co/api/planets/')\n",
    "data = r.json()\n",
    "for planet in data[\"results\"]:\n",
    "    print(planet[\"name\"])"
   ]
  },
  {
   "cell_type": "code",
   "execution_count": 33,
   "metadata": {},
   "outputs": [
    {
     "name": "stdout",
     "output_type": "stream",
     "text": [
      "Machine Learning Course\n",
      "Competitive Programming Course\n",
      "Aptitude Preparation Course\n",
      "Python Foundation with Data Structures\n",
      "JAVA Foundation with Data Structures\n",
      "Ninja Web Developer Career Track\n",
      "Ninja Data Scientist Career Track\n",
      "C++ Foundation with Data Structures\n",
      "Data Science & Machine Learning Complete\n",
      "Full Stack Web Development with Node.js\n",
      "Ninja Machine Learning Engineer Career Track\n",
      "Interview Preparation Course\n",
      "Ninja Competitive Programmer Track\n"
     ]
    }
   ],
   "source": [
    "import requests\n",
    "r = requests.get('https://codingninjas.in/api/v3/courses')\n",
    "data = r.json()\n",
    "for course in data[\"data\"][\"courses\"]:\n",
    "    if course[\"available_online\"] is True:\n",
    "        print(course[\"name\"])"
   ]
  },
  {
   "cell_type": "code",
   "execution_count": 45,
   "metadata": {},
   "outputs": [
    {
     "name": "stdout",
     "output_type": "stream",
     "text": [
      "DS and Algo workshop at Thapar, Derabassi campus on 19th October'19\n"
     ]
    }
   ],
   "source": [
    "import requests\n",
    "r = requests.get('https://codingninjas.in/api/v3/events')\n",
    "data = r.json()\n",
    "for event in data[\"data\"][\"past_registered_events\"]:\n",
    "    if \"workshop\" in event[\"name\"].lower():\n",
    "        print(event[\"name\"])"
   ]
  },
  {
   "cell_type": "code",
   "execution_count": 46,
   "metadata": {},
   "outputs": [
    {
     "name": "stdout",
     "output_type": "stream",
     "text": [
      "Utapau\n",
      "Mustafar\n",
      "Kashyyyk\n",
      "Polis Massa\n",
      "Mygeeto\n",
      "Felucia\n",
      "Cato Neimoidia\n",
      "Saleucami\n",
      "Stewjon\n",
      "Eriadu\n"
     ]
    }
   ],
   "source": [
    "import requests\n",
    "r = requests.get('https://swapi.co/api/planets/', params = {\"page\": 2})\n",
    "data = r.json()\n",
    "for planet in data[\"results\"]:\n",
    "    print(planet[\"name\"])"
   ]
  },
  {
   "cell_type": "code",
   "execution_count": 47,
   "metadata": {},
   "outputs": [
    {
     "name": "stdout",
     "output_type": "stream",
     "text": [
      "Trandosha\n",
      "Chandrila\n"
     ]
    }
   ],
   "source": [
    "import requests\n",
    "r = requests.get('https://swapi.co/api/planets/', params = {\"search\": \"and\"})\n",
    "data = r.json()\n",
    "for planet in data[\"results\"]:\n",
    "    print(planet[\"name\"])"
   ]
  },
  {
   "cell_type": "code",
   "execution_count": 48,
   "metadata": {},
   "outputs": [
    {
     "name": "stdout",
     "output_type": "stream",
     "text": [
      "Antwerpen\n",
      "Brabant wallon\n",
      "Brussels\n",
      "Brussels-Capital Region\n",
      "Flanders\n"
     ]
    }
   ],
   "source": [
    "import requests\n",
    "r = requests.get('https://api.openaq.org/v1/cities', params = {\"country\": \"BE\", \"limit\":5})\n",
    "data = r.json()\n",
    "for city in data[\"results\"]:\n",
    "    print(city[\"name\"])"
   ]
  },
  {
   "cell_type": "code",
   "execution_count": 57,
   "metadata": {},
   "outputs": [
    {
     "name": "stdout",
     "output_type": "stream",
     "text": [
      "1132447\n"
     ]
    }
   ],
   "source": [
    "import requests\n",
    "r = requests.get('https://www.metaweather.com/api/location/search/', params = {\"query\": \"USA\"})\n",
    "data = r.json()\n",
    "print(data[0][\"woeid\"])"
   ]
  },
  {
   "cell_type": "code",
   "execution_count": 70,
   "metadata": {},
   "outputs": [
    {
     "name": "stdout",
     "output_type": "stream",
     "text": [
      "Mahatma Gandhi Jayanti\n"
     ]
    }
   ],
   "source": [
    "import requests\n",
    "r = requests.get('https://holidayapi.com/v1/holidays', params = {\n",
    "    'key' :'7c2a10e4-3f3b-4a51-a4ff-fe0fd571e4ec',\n",
    "    'country' : 'IN',\n",
    "    'year': 2018,\n",
    "    'month':10,\n",
    "    'day': 2\n",
    "})\n",
    "data = r.json()\n",
    "print(data['holidays'][0]['name'])"
   ]
  },
  {
   "cell_type": "code",
   "execution_count": 96,
   "metadata": {},
   "outputs": [
    {
     "name": "stdout",
     "output_type": "stream",
     "text": [
      "Swift\n",
      "HTML\n",
      "Python\n",
      "Ruby\n",
      "Shell\n"
     ]
    }
   ],
   "source": [
    "import requests\n",
    "r = requests.get('https://api.github.com/repos/google/science-journal-ios/languages', auth = ('codingninjas123', 'cnninjas123'))\n",
    "data = r.json()\n",
    "for lang in data:\n",
    "    print(lang)"
   ]
  },
  {
   "cell_type": "code",
   "execution_count": 104,
   "metadata": {},
   "outputs": [
    {
     "name": "stdout",
     "output_type": "stream",
     "text": [
      "Workshop at Ahmedabad University\n",
      "DS and Algo workshop at Thapar, Derabassi campus on 19th October'19\n"
     ]
    }
   ],
   "source": [
    "import requests\n",
    "r = requests.get('https://codingninjas.in/api/v3/events')\n",
    "data = r.json()\n",
    "for ev in data['data']['latest_events']:\n",
    "    if \"workshop\" in ev[\"name\"].lower():\n",
    "        print(ev[\"name\"])\n",
    "for ev in data['data']['past_registered_events']:\n",
    "    if \"workshop\" in ev[\"name\"].lower():\n",
    "        print(ev[\"name\"])"
   ]
  },
  {
   "cell_type": "code",
   "execution_count": 110,
   "metadata": {},
   "outputs": [
    {
     "name": "stdout",
     "output_type": "stream",
     "text": [
      "Beacathon 2 8\n",
      "HTMLandCssNotes 12 20\n",
      "JSNotes 5 6\n",
      "learnml 1 0\n",
      "Python3Tutorial 5 3\n",
      "RubyNotebook 2 5\n",
      "RubyTutorial 14 9\n",
      "SmoothScrollJs 15 4\n"
     ]
    }
   ],
   "source": [
    "import requests\n",
    "r = requests.get('https://api.github.com/users/CodingNinjasCodes/repos', auth = ('codingninjas123', 'cnninjas123'))\n",
    "data = r.json()\n",
    "for repo in data:\n",
    "    if repo[\"fork\"] is False:\n",
    "        print(repo[\"name\"], repo[\"watchers_count\"], repo[\"forks_count\"])"
   ]
  },
  {
   "cell_type": "code",
   "execution_count": 127,
   "metadata": {},
   "outputs": [
    {
     "name": "stdout",
     "output_type": "stream",
     "text": [
      "33\n"
     ]
    }
   ],
   "source": [
    "import requests\n",
    "header = {\"Accept\" : \"application/vnd.github.black-panther-preview+json\"}\n",
    "\n",
    "r = requests.get('https://api.github.com/repos/CodingNinjasCodes/SmoothScrollJs/community/profile', headers = header, auth = ('codingninjas123', 'cnninjas123'))\n",
    "data = r.json()\n",
    "print(data[\"health_percentage\"])"
   ]
  },
  {
   "cell_type": "code",
   "execution_count": 133,
   "metadata": {},
   "outputs": [
    {
     "name": "stdout",
     "output_type": "stream",
     "text": [
      "2009.fossasia.org\n",
      "2010.fossasia.org\n",
      "2011.fossasia.org\n",
      "2012.fossasia.org\n",
      "2013.fossasia.org\n",
      "2014.fossasia.org\n",
      "2015.fossasia.org\n",
      "2016.codeheat.org\n",
      "2016.fossasia.org\n",
      "2017.codeheat.org\n",
      "2017.fossasia.org\n",
      "2018.codeheat.org\n",
      "2018.fossasia.org\n",
      "2019.fossasia.org\n",
      "2020.fossasia.org\n",
      "accounts.susi.ai\n",
      "admin.susi.ai\n",
      "api.fossasia.net\n",
      "arch-travis\n",
      "asksusi\n",
      "AYABInterface\n",
      "badge-magic-android\n",
      "badge-magic-ios\n",
      "badgeyay\n",
      "blog.fossasia.org\n",
      "calendar.fossasia.org\n",
      "circle-knitting\n",
      "cmap.api.fossasia.net\n",
      "coc.fossasia.org\n",
      "codeheat-artwork\n"
     ]
    }
   ],
   "source": [
    "import requests\n",
    "header = {\"Accept\" : \"application/vnd.github.black-panther-preview+json\"}\n",
    "r = requests.get('https://api.github.com/users/fossasia/repos', headers = header, auth = ('codingninjas123', 'cnninjas123'))\n",
    "data = r.json()\n",
    "for repo in data:\n",
    "    print(repo[\"name\"])"
   ]
  }
 ],
 "metadata": {
  "kernelspec": {
   "display_name": "Python 3",
   "language": "python",
   "name": "python3"
  },
  "language_info": {
   "codemirror_mode": {
    "name": "ipython",
    "version": 3
   },
   "file_extension": ".py",
   "mimetype": "text/x-python",
   "name": "python",
   "nbconvert_exporter": "python",
   "pygments_lexer": "ipython3",
   "version": "3.7.4"
  }
 },
 "nbformat": 4,
 "nbformat_minor": 2
}
